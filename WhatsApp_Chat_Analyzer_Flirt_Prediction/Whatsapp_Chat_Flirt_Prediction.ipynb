{
 "cells": [
  {
   "cell_type": "code",
   "execution_count": 1,
   "id": "1af9f8a8-86ce-4e62-a054-51174aa3b0e7",
   "metadata": {},
   "outputs": [],
   "source": [
    "import pandas as pd"
   ]
  },
  {
   "cell_type": "code",
   "execution_count": 3,
   "id": "6abbb28f-3b49-421a-9f1b-9a8fcdc5754a",
   "metadata": {},
   "outputs": [],
   "source": [
    "##df = pd.read_csv(\"whatsapp_flirt_nonflirt_Chats.txt\",header=None,on_bad_lines=\"skip\",encoding='utf8')\n",
    "df = pd.read_csv(\"whatsapp_flirt_nonflirt_Chats.txt\",header=None,on_bad_lines=\"skip\",encoding='utf8')"
   ]
  },
  {
   "cell_type": "code",
   "execution_count": 5,
   "id": "8e85c368-51c7-4bae-afdf-6db6d36fba38",
   "metadata": {},
   "outputs": [
    {
     "data": {
      "text/html": [
       "<div>\n",
       "<style scoped>\n",
       "    .dataframe tbody tr th:only-of-type {\n",
       "        vertical-align: middle;\n",
       "    }\n",
       "\n",
       "    .dataframe tbody tr th {\n",
       "        vertical-align: top;\n",
       "    }\n",
       "\n",
       "    .dataframe thead th {\n",
       "        text-align: right;\n",
       "    }\n",
       "</style>\n",
       "<table border=\"1\" class=\"dataframe\">\n",
       "  <thead>\n",
       "    <tr style=\"text-align: right;\">\n",
       "      <th></th>\n",
       "      <th>0</th>\n",
       "      <th>1</th>\n",
       "    </tr>\n",
       "  </thead>\n",
       "  <tbody>\n",
       "    <tr>\n",
       "      <th>0</th>\n",
       "      <td>05/12/19</td>\n",
       "      <td>1:42 pm - Messages to this chat and calls are...</td>\n",
       "    </tr>\n",
       "    <tr>\n",
       "      <th>1</th>\n",
       "      <td>26/08/25</td>\n",
       "      <td>12:46 PM - Geetha: Keep talking like that and...</td>\n",
       "    </tr>\n",
       "    <tr>\n",
       "      <th>2</th>\n",
       "      <td>26/08/25</td>\n",
       "      <td>12:47 PM - Arun: Deal if you promise a laugh 😏</td>\n",
       "    </tr>\n",
       "    <tr>\n",
       "      <th>3</th>\n",
       "      <td>26/08/25</td>\n",
       "      <td>1:34 PM - Arun: That smile in your DP… dange...</td>\n",
       "    </tr>\n",
       "    <tr>\n",
       "      <th>4</th>\n",
       "      <td>26/08/25</td>\n",
       "      <td>1:38 PM - Geetha: Flattery will get you ever...</td>\n",
       "    </tr>\n",
       "    <tr>\n",
       "      <th>...</th>\n",
       "      <td>...</td>\n",
       "      <td>...</td>\n",
       "    </tr>\n",
       "    <tr>\n",
       "      <th>132</th>\n",
       "      <td>25/08/25</td>\n",
       "      <td>12:38 PM - Geetha: Got it. Friends it is 🫶</td>\n",
       "    </tr>\n",
       "    <tr>\n",
       "      <th>133</th>\n",
       "      <td>25/08/25</td>\n",
       "      <td>11:25 AM - Geetha: On my desk</td>\n",
       "    </tr>\n",
       "    <tr>\n",
       "      <th>134</th>\n",
       "      <td>25/08/25</td>\n",
       "      <td>11:29 AM - Geetha: Got it. Friends it is 💼</td>\n",
       "    </tr>\n",
       "    <tr>\n",
       "      <th>135</th>\n",
       "      <td>25/08/25</td>\n",
       "      <td>10:36 AM - Arun: Reminder: rent due today 🫶</td>\n",
       "    </tr>\n",
       "    <tr>\n",
       "      <th>136</th>\n",
       "      <td>25/08/25</td>\n",
       "      <td>10:44 AM - Arun: Anything else needed?</td>\n",
       "    </tr>\n",
       "  </tbody>\n",
       "</table>\n",
       "<p>137 rows × 2 columns</p>\n",
       "</div>"
      ],
      "text/plain": [
       "            0                                                  1\n",
       "0    05/12/19   1:42 pm - Messages to this chat and calls are...\n",
       "1    26/08/25   12:46 PM - Geetha: Keep talking like that and...\n",
       "2    26/08/25     12:47 PM - Arun: Deal if you promise a laugh 😏\n",
       "3    26/08/25    1:34 PM - Arun: That smile in your DP… dange...\n",
       "4    26/08/25    1:38 PM - Geetha: Flattery will get you ever...\n",
       "..        ...                                                ...\n",
       "132  25/08/25         12:38 PM - Geetha: Got it. Friends it is 🫶\n",
       "133  25/08/25                      11:25 AM - Geetha: On my desk\n",
       "134  25/08/25         11:29 AM - Geetha: Got it. Friends it is 💼\n",
       "135  25/08/25        10:36 AM - Arun: Reminder: rent due today 🫶\n",
       "136  25/08/25             10:44 AM - Arun: Anything else needed?\n",
       "\n",
       "[137 rows x 2 columns]"
      ]
     },
     "execution_count": 5,
     "metadata": {},
     "output_type": "execute_result"
    }
   ],
   "source": [
    "df"
   ]
  },
  {
   "cell_type": "code",
   "execution_count": 7,
   "id": "777034ae-da40-4871-b268-cc23cb54932f",
   "metadata": {},
   "outputs": [
    {
     "data": {
      "text/plain": [
       "0    0\n",
       "1    0\n",
       "dtype: int64"
      ]
     },
     "execution_count": 7,
     "metadata": {},
     "output_type": "execute_result"
    }
   ],
   "source": [
    "df.isnull().sum()"
   ]
  },
  {
   "cell_type": "code",
   "execution_count": 9,
   "id": "fde9f455-c455-4536-bd9d-98329a8f7539",
   "metadata": {},
   "outputs": [],
   "source": [
    "df=df.drop(0)"
   ]
  },
  {
   "cell_type": "code",
   "execution_count": 11,
   "id": "4d4c97df-0761-4780-8b2c-89c5b7d511b4",
   "metadata": {},
   "outputs": [
    {
     "data": {
      "text/html": [
       "<div>\n",
       "<style scoped>\n",
       "    .dataframe tbody tr th:only-of-type {\n",
       "        vertical-align: middle;\n",
       "    }\n",
       "\n",
       "    .dataframe tbody tr th {\n",
       "        vertical-align: top;\n",
       "    }\n",
       "\n",
       "    .dataframe thead th {\n",
       "        text-align: right;\n",
       "    }\n",
       "</style>\n",
       "<table border=\"1\" class=\"dataframe\">\n",
       "  <thead>\n",
       "    <tr style=\"text-align: right;\">\n",
       "      <th></th>\n",
       "      <th>0</th>\n",
       "      <th>1</th>\n",
       "    </tr>\n",
       "  </thead>\n",
       "  <tbody>\n",
       "    <tr>\n",
       "      <th>1</th>\n",
       "      <td>26/08/25</td>\n",
       "      <td>12:46 PM - Geetha: Keep talking like that and...</td>\n",
       "    </tr>\n",
       "    <tr>\n",
       "      <th>2</th>\n",
       "      <td>26/08/25</td>\n",
       "      <td>12:47 PM - Arun: Deal if you promise a laugh 😏</td>\n",
       "    </tr>\n",
       "    <tr>\n",
       "      <th>3</th>\n",
       "      <td>26/08/25</td>\n",
       "      <td>1:34 PM - Arun: That smile in your DP… dange...</td>\n",
       "    </tr>\n",
       "    <tr>\n",
       "      <th>4</th>\n",
       "      <td>26/08/25</td>\n",
       "      <td>1:38 PM - Geetha: Flattery will get you ever...</td>\n",
       "    </tr>\n",
       "    <tr>\n",
       "      <th>5</th>\n",
       "      <td>26/08/25</td>\n",
       "      <td>1:36 PM - Arun: Send me your ETA and I’ll ma...</td>\n",
       "    </tr>\n",
       "    <tr>\n",
       "      <th>...</th>\n",
       "      <td>...</td>\n",
       "      <td>...</td>\n",
       "    </tr>\n",
       "    <tr>\n",
       "      <th>132</th>\n",
       "      <td>25/08/25</td>\n",
       "      <td>12:38 PM - Geetha: Got it. Friends it is 🫶</td>\n",
       "    </tr>\n",
       "    <tr>\n",
       "      <th>133</th>\n",
       "      <td>25/08/25</td>\n",
       "      <td>11:25 AM - Geetha: On my desk</td>\n",
       "    </tr>\n",
       "    <tr>\n",
       "      <th>134</th>\n",
       "      <td>25/08/25</td>\n",
       "      <td>11:29 AM - Geetha: Got it. Friends it is 💼</td>\n",
       "    </tr>\n",
       "    <tr>\n",
       "      <th>135</th>\n",
       "      <td>25/08/25</td>\n",
       "      <td>10:36 AM - Arun: Reminder: rent due today 🫶</td>\n",
       "    </tr>\n",
       "    <tr>\n",
       "      <th>136</th>\n",
       "      <td>25/08/25</td>\n",
       "      <td>10:44 AM - Arun: Anything else needed?</td>\n",
       "    </tr>\n",
       "  </tbody>\n",
       "</table>\n",
       "<p>136 rows × 2 columns</p>\n",
       "</div>"
      ],
      "text/plain": [
       "            0                                                  1\n",
       "1    26/08/25   12:46 PM - Geetha: Keep talking like that and...\n",
       "2    26/08/25     12:47 PM - Arun: Deal if you promise a laugh 😏\n",
       "3    26/08/25    1:34 PM - Arun: That smile in your DP… dange...\n",
       "4    26/08/25    1:38 PM - Geetha: Flattery will get you ever...\n",
       "5    26/08/25    1:36 PM - Arun: Send me your ETA and I’ll ma...\n",
       "..        ...                                                ...\n",
       "132  25/08/25         12:38 PM - Geetha: Got it. Friends it is 🫶\n",
       "133  25/08/25                      11:25 AM - Geetha: On my desk\n",
       "134  25/08/25         11:29 AM - Geetha: Got it. Friends it is 💼\n",
       "135  25/08/25        10:36 AM - Arun: Reminder: rent due today 🫶\n",
       "136  25/08/25             10:44 AM - Arun: Anything else needed?\n",
       "\n",
       "[136 rows x 2 columns]"
      ]
     },
     "execution_count": 11,
     "metadata": {},
     "output_type": "execute_result"
    }
   ],
   "source": [
    "df"
   ]
  },
  {
   "cell_type": "code",
   "execution_count": 13,
   "id": "dcd50b92-206f-49e3-b4db-67af115496d6",
   "metadata": {},
   "outputs": [],
   "source": [
    "df.columns=['Date','Chat']"
   ]
  },
  {
   "cell_type": "code",
   "execution_count": 15,
   "id": "92bd25a0-512a-48e5-9277-a31f50a008ef",
   "metadata": {},
   "outputs": [
    {
     "data": {
      "text/html": [
       "<div>\n",
       "<style scoped>\n",
       "    .dataframe tbody tr th:only-of-type {\n",
       "        vertical-align: middle;\n",
       "    }\n",
       "\n",
       "    .dataframe tbody tr th {\n",
       "        vertical-align: top;\n",
       "    }\n",
       "\n",
       "    .dataframe thead th {\n",
       "        text-align: right;\n",
       "    }\n",
       "</style>\n",
       "<table border=\"1\" class=\"dataframe\">\n",
       "  <thead>\n",
       "    <tr style=\"text-align: right;\">\n",
       "      <th></th>\n",
       "      <th>Date</th>\n",
       "      <th>Chat</th>\n",
       "    </tr>\n",
       "  </thead>\n",
       "  <tbody>\n",
       "    <tr>\n",
       "      <th>1</th>\n",
       "      <td>26/08/25</td>\n",
       "      <td>12:46 PM - Geetha: Keep talking like that and...</td>\n",
       "    </tr>\n",
       "    <tr>\n",
       "      <th>2</th>\n",
       "      <td>26/08/25</td>\n",
       "      <td>12:47 PM - Arun: Deal if you promise a laugh 😏</td>\n",
       "    </tr>\n",
       "    <tr>\n",
       "      <th>3</th>\n",
       "      <td>26/08/25</td>\n",
       "      <td>1:34 PM - Arun: That smile in your DP… dange...</td>\n",
       "    </tr>\n",
       "    <tr>\n",
       "      <th>4</th>\n",
       "      <td>26/08/25</td>\n",
       "      <td>1:38 PM - Geetha: Flattery will get you ever...</td>\n",
       "    </tr>\n",
       "    <tr>\n",
       "      <th>5</th>\n",
       "      <td>26/08/25</td>\n",
       "      <td>1:36 PM - Arun: Send me your ETA and I’ll ma...</td>\n",
       "    </tr>\n",
       "    <tr>\n",
       "      <th>...</th>\n",
       "      <td>...</td>\n",
       "      <td>...</td>\n",
       "    </tr>\n",
       "    <tr>\n",
       "      <th>132</th>\n",
       "      <td>25/08/25</td>\n",
       "      <td>12:38 PM - Geetha: Got it. Friends it is 🫶</td>\n",
       "    </tr>\n",
       "    <tr>\n",
       "      <th>133</th>\n",
       "      <td>25/08/25</td>\n",
       "      <td>11:25 AM - Geetha: On my desk</td>\n",
       "    </tr>\n",
       "    <tr>\n",
       "      <th>134</th>\n",
       "      <td>25/08/25</td>\n",
       "      <td>11:29 AM - Geetha: Got it. Friends it is 💼</td>\n",
       "    </tr>\n",
       "    <tr>\n",
       "      <th>135</th>\n",
       "      <td>25/08/25</td>\n",
       "      <td>10:36 AM - Arun: Reminder: rent due today 🫶</td>\n",
       "    </tr>\n",
       "    <tr>\n",
       "      <th>136</th>\n",
       "      <td>25/08/25</td>\n",
       "      <td>10:44 AM - Arun: Anything else needed?</td>\n",
       "    </tr>\n",
       "  </tbody>\n",
       "</table>\n",
       "<p>136 rows × 2 columns</p>\n",
       "</div>"
      ],
      "text/plain": [
       "         Date                                               Chat\n",
       "1    26/08/25   12:46 PM - Geetha: Keep talking like that and...\n",
       "2    26/08/25     12:47 PM - Arun: Deal if you promise a laugh 😏\n",
       "3    26/08/25    1:34 PM - Arun: That smile in your DP… dange...\n",
       "4    26/08/25    1:38 PM - Geetha: Flattery will get you ever...\n",
       "5    26/08/25    1:36 PM - Arun: Send me your ETA and I’ll ma...\n",
       "..        ...                                                ...\n",
       "132  25/08/25         12:38 PM - Geetha: Got it. Friends it is 🫶\n",
       "133  25/08/25                      11:25 AM - Geetha: On my desk\n",
       "134  25/08/25         11:29 AM - Geetha: Got it. Friends it is 💼\n",
       "135  25/08/25        10:36 AM - Arun: Reminder: rent due today 🫶\n",
       "136  25/08/25             10:44 AM - Arun: Anything else needed?\n",
       "\n",
       "[136 rows x 2 columns]"
      ]
     },
     "execution_count": 15,
     "metadata": {},
     "output_type": "execute_result"
    }
   ],
   "source": [
    "df"
   ]
  },
  {
   "cell_type": "code",
   "execution_count": 17,
   "id": "95115d1b-9c57-4830-a3dc-06f1914e2bcc",
   "metadata": {},
   "outputs": [],
   "source": [
    "Message=df[\"Chat\"].str.split(\"-\",n=1,expand=True)"
   ]
  },
  {
   "cell_type": "code",
   "execution_count": 19,
   "id": "82612eca-6a52-40e9-8cb2-642b6fc6508f",
   "metadata": {},
   "outputs": [
    {
     "data": {
      "text/html": [
       "<div>\n",
       "<style scoped>\n",
       "    .dataframe tbody tr th:only-of-type {\n",
       "        vertical-align: middle;\n",
       "    }\n",
       "\n",
       "    .dataframe tbody tr th {\n",
       "        vertical-align: top;\n",
       "    }\n",
       "\n",
       "    .dataframe thead th {\n",
       "        text-align: right;\n",
       "    }\n",
       "</style>\n",
       "<table border=\"1\" class=\"dataframe\">\n",
       "  <thead>\n",
       "    <tr style=\"text-align: right;\">\n",
       "      <th></th>\n",
       "      <th>0</th>\n",
       "      <th>1</th>\n",
       "    </tr>\n",
       "  </thead>\n",
       "  <tbody>\n",
       "    <tr>\n",
       "      <th>1</th>\n",
       "      <td>12:46 PM</td>\n",
       "      <td>Geetha: Keep talking like that and I’ll say y...</td>\n",
       "    </tr>\n",
       "    <tr>\n",
       "      <th>2</th>\n",
       "      <td>12:47 PM</td>\n",
       "      <td>Arun: Deal if you promise a laugh 😏</td>\n",
       "    </tr>\n",
       "    <tr>\n",
       "      <th>3</th>\n",
       "      <td>1:34 PM</td>\n",
       "      <td>Arun: That smile in your DP… dangerous 😘</td>\n",
       "    </tr>\n",
       "    <tr>\n",
       "      <th>4</th>\n",
       "      <td>1:38 PM</td>\n",
       "      <td>Geetha: Flattery will get you everywhere 🙈</td>\n",
       "    </tr>\n",
       "    <tr>\n",
       "      <th>5</th>\n",
       "      <td>1:36 PM</td>\n",
       "      <td>Arun: Send me your ETA and I’ll match it 🙈</td>\n",
       "    </tr>\n",
       "    <tr>\n",
       "      <th>...</th>\n",
       "      <td>...</td>\n",
       "      <td>...</td>\n",
       "    </tr>\n",
       "    <tr>\n",
       "      <th>132</th>\n",
       "      <td>12:38 PM</td>\n",
       "      <td>Geetha: Got it. Friends it is 🫶</td>\n",
       "    </tr>\n",
       "    <tr>\n",
       "      <th>133</th>\n",
       "      <td>11:25 AM</td>\n",
       "      <td>Geetha: On my desk</td>\n",
       "    </tr>\n",
       "    <tr>\n",
       "      <th>134</th>\n",
       "      <td>11:29 AM</td>\n",
       "      <td>Geetha: Got it. Friends it is 💼</td>\n",
       "    </tr>\n",
       "    <tr>\n",
       "      <th>135</th>\n",
       "      <td>10:36 AM</td>\n",
       "      <td>Arun: Reminder: rent due today 🫶</td>\n",
       "    </tr>\n",
       "    <tr>\n",
       "      <th>136</th>\n",
       "      <td>10:44 AM</td>\n",
       "      <td>Arun: Anything else needed?</td>\n",
       "    </tr>\n",
       "  </tbody>\n",
       "</table>\n",
       "<p>136 rows × 2 columns</p>\n",
       "</div>"
      ],
      "text/plain": [
       "              0                                                  1\n",
       "1     12:46 PM    Geetha: Keep talking like that and I’ll say y...\n",
       "2     12:47 PM                 Arun: Deal if you promise a laugh 😏\n",
       "3      1:34 PM            Arun: That smile in your DP… dangerous 😘\n",
       "4      1:38 PM          Geetha: Flattery will get you everywhere 🙈\n",
       "5      1:36 PM          Arun: Send me your ETA and I’ll match it 🙈\n",
       "..          ...                                                ...\n",
       "132   12:38 PM                     Geetha: Got it. Friends it is 🫶\n",
       "133   11:25 AM                                  Geetha: On my desk\n",
       "134   11:29 AM                     Geetha: Got it. Friends it is 💼\n",
       "135   10:36 AM                    Arun: Reminder: rent due today 🫶\n",
       "136   10:44 AM                         Arun: Anything else needed?\n",
       "\n",
       "[136 rows x 2 columns]"
      ]
     },
     "execution_count": 19,
     "metadata": {},
     "output_type": "execute_result"
    }
   ],
   "source": [
    "Message"
   ]
  },
  {
   "cell_type": "code",
   "execution_count": 21,
   "id": "162f9c71-89e6-43c0-b448-8d12f19afb6d",
   "metadata": {},
   "outputs": [],
   "source": [
    "df[\"Time\"]=Message[0]"
   ]
  },
  {
   "cell_type": "code",
   "execution_count": 23,
   "id": "4f634555-bb41-428d-852d-e8bc1202ff65",
   "metadata": {},
   "outputs": [
    {
     "data": {
      "text/plain": [
       "1       12:46 PM \n",
       "2       12:47 PM \n",
       "3        1:34 PM \n",
       "4        1:38 PM \n",
       "5        1:36 PM \n",
       "          ...    \n",
       "132     12:38 PM \n",
       "133     11:25 AM \n",
       "134     11:29 AM \n",
       "135     10:36 AM \n",
       "136     10:44 AM \n",
       "Name: Time, Length: 136, dtype: object"
      ]
     },
     "execution_count": 23,
     "metadata": {},
     "output_type": "execute_result"
    }
   ],
   "source": [
    "df[\"Time\"]"
   ]
  },
  {
   "cell_type": "code",
   "execution_count": 25,
   "id": "618ae11f-a4e9-438f-9991-d9ba8ba81aab",
   "metadata": {},
   "outputs": [],
   "source": [
    "Message1=Message[1].str.split(\":\",n=1,expand=True)"
   ]
  },
  {
   "cell_type": "code",
   "execution_count": 27,
   "id": "6a5d1b5a-d2fa-467c-aeeb-c0f174356f0c",
   "metadata": {},
   "outputs": [
    {
     "data": {
      "text/html": [
       "<div>\n",
       "<style scoped>\n",
       "    .dataframe tbody tr th:only-of-type {\n",
       "        vertical-align: middle;\n",
       "    }\n",
       "\n",
       "    .dataframe tbody tr th {\n",
       "        vertical-align: top;\n",
       "    }\n",
       "\n",
       "    .dataframe thead th {\n",
       "        text-align: right;\n",
       "    }\n",
       "</style>\n",
       "<table border=\"1\" class=\"dataframe\">\n",
       "  <thead>\n",
       "    <tr style=\"text-align: right;\">\n",
       "      <th></th>\n",
       "      <th>0</th>\n",
       "      <th>1</th>\n",
       "    </tr>\n",
       "  </thead>\n",
       "  <tbody>\n",
       "    <tr>\n",
       "      <th>1</th>\n",
       "      <td>Geetha</td>\n",
       "      <td>Keep talking like that and I’ll say yes 🙈</td>\n",
       "    </tr>\n",
       "    <tr>\n",
       "      <th>2</th>\n",
       "      <td>Arun</td>\n",
       "      <td>Deal if you promise a laugh 😏</td>\n",
       "    </tr>\n",
       "    <tr>\n",
       "      <th>3</th>\n",
       "      <td>Arun</td>\n",
       "      <td>That smile in your DP… dangerous 😘</td>\n",
       "    </tr>\n",
       "    <tr>\n",
       "      <th>4</th>\n",
       "      <td>Geetha</td>\n",
       "      <td>Flattery will get you everywhere 🙈</td>\n",
       "    </tr>\n",
       "    <tr>\n",
       "      <th>5</th>\n",
       "      <td>Arun</td>\n",
       "      <td>Send me your ETA and I’ll match it 🙈</td>\n",
       "    </tr>\n",
       "    <tr>\n",
       "      <th>...</th>\n",
       "      <td>...</td>\n",
       "      <td>...</td>\n",
       "    </tr>\n",
       "    <tr>\n",
       "      <th>132</th>\n",
       "      <td>Geetha</td>\n",
       "      <td>Got it. Friends it is 🫶</td>\n",
       "    </tr>\n",
       "    <tr>\n",
       "      <th>133</th>\n",
       "      <td>Geetha</td>\n",
       "      <td>On my desk</td>\n",
       "    </tr>\n",
       "    <tr>\n",
       "      <th>134</th>\n",
       "      <td>Geetha</td>\n",
       "      <td>Got it. Friends it is 💼</td>\n",
       "    </tr>\n",
       "    <tr>\n",
       "      <th>135</th>\n",
       "      <td>Arun</td>\n",
       "      <td>Reminder: rent due today 🫶</td>\n",
       "    </tr>\n",
       "    <tr>\n",
       "      <th>136</th>\n",
       "      <td>Arun</td>\n",
       "      <td>Anything else needed?</td>\n",
       "    </tr>\n",
       "  </tbody>\n",
       "</table>\n",
       "<p>136 rows × 2 columns</p>\n",
       "</div>"
      ],
      "text/plain": [
       "           0                                           1\n",
       "1     Geetha   Keep talking like that and I’ll say yes 🙈\n",
       "2       Arun               Deal if you promise a laugh 😏\n",
       "3       Arun          That smile in your DP… dangerous 😘\n",
       "4     Geetha          Flattery will get you everywhere 🙈\n",
       "5       Arun        Send me your ETA and I’ll match it 🙈\n",
       "..       ...                                         ...\n",
       "132   Geetha                     Got it. Friends it is 🫶\n",
       "133   Geetha                                  On my desk\n",
       "134   Geetha                     Got it. Friends it is 💼\n",
       "135     Arun                  Reminder: rent due today 🫶\n",
       "136     Arun                       Anything else needed?\n",
       "\n",
       "[136 rows x 2 columns]"
      ]
     },
     "execution_count": 27,
     "metadata": {},
     "output_type": "execute_result"
    }
   ],
   "source": [
    "Message1"
   ]
  },
  {
   "cell_type": "code",
   "execution_count": 29,
   "id": "4e3ea5b5-4087-4c75-a4ac-b679a10fb17e",
   "metadata": {},
   "outputs": [],
   "source": [
    "df[\"Name\"]=Message1[0]\n",
    "df[\"Chat\"]=Message1[1]"
   ]
  },
  {
   "cell_type": "code",
   "execution_count": 31,
   "id": "e3ebbd0f-5ac2-41b0-b5d4-cc890de122fe",
   "metadata": {},
   "outputs": [
    {
     "data": {
      "text/plain": [
       "1       Geetha\n",
       "2         Arun\n",
       "3         Arun\n",
       "4       Geetha\n",
       "5         Arun\n",
       "        ...   \n",
       "132     Geetha\n",
       "133     Geetha\n",
       "134     Geetha\n",
       "135       Arun\n",
       "136       Arun\n",
       "Name: Name, Length: 136, dtype: object"
      ]
     },
     "execution_count": 31,
     "metadata": {},
     "output_type": "execute_result"
    }
   ],
   "source": [
    "df[\"Name\"]"
   ]
  },
  {
   "cell_type": "code",
   "execution_count": 33,
   "id": "4142612f-6a1c-4cf0-aa20-3e39cc1cd993",
   "metadata": {},
   "outputs": [
    {
     "data": {
      "text/plain": [
       "1       Keep talking like that and I’ll say yes 🙈\n",
       "2                   Deal if you promise a laugh 😏\n",
       "3              That smile in your DP… dangerous 😘\n",
       "4              Flattery will get you everywhere 🙈\n",
       "5            Send me your ETA and I’ll match it 🙈\n",
       "                          ...                    \n",
       "132                       Got it. Friends it is 🫶\n",
       "133                                    On my desk\n",
       "134                       Got it. Friends it is 💼\n",
       "135                    Reminder: rent due today 🫶\n",
       "136                         Anything else needed?\n",
       "Name: Chat, Length: 136, dtype: object"
      ]
     },
     "execution_count": 33,
     "metadata": {},
     "output_type": "execute_result"
    }
   ],
   "source": [
    "df[\"Chat\"]"
   ]
  },
  {
   "cell_type": "code",
   "execution_count": 35,
   "id": "1e3b27d7-6034-487c-ae1b-5bdf5437b4fb",
   "metadata": {},
   "outputs": [],
   "source": [
    "df=df[[\"Date\",\"Time\",\"Name\",\"Chat\"]]"
   ]
  },
  {
   "cell_type": "code",
   "execution_count": 37,
   "id": "be354789-d60e-4843-a6b7-61aef7b4b4ff",
   "metadata": {},
   "outputs": [
    {
     "data": {
      "text/html": [
       "<div>\n",
       "<style scoped>\n",
       "    .dataframe tbody tr th:only-of-type {\n",
       "        vertical-align: middle;\n",
       "    }\n",
       "\n",
       "    .dataframe tbody tr th {\n",
       "        vertical-align: top;\n",
       "    }\n",
       "\n",
       "    .dataframe thead th {\n",
       "        text-align: right;\n",
       "    }\n",
       "</style>\n",
       "<table border=\"1\" class=\"dataframe\">\n",
       "  <thead>\n",
       "    <tr style=\"text-align: right;\">\n",
       "      <th></th>\n",
       "      <th>Date</th>\n",
       "      <th>Time</th>\n",
       "      <th>Name</th>\n",
       "      <th>Chat</th>\n",
       "    </tr>\n",
       "  </thead>\n",
       "  <tbody>\n",
       "    <tr>\n",
       "      <th>1</th>\n",
       "      <td>26/08/25</td>\n",
       "      <td>12:46 PM</td>\n",
       "      <td>Geetha</td>\n",
       "      <td>Keep talking like that and I’ll say yes 🙈</td>\n",
       "    </tr>\n",
       "    <tr>\n",
       "      <th>2</th>\n",
       "      <td>26/08/25</td>\n",
       "      <td>12:47 PM</td>\n",
       "      <td>Arun</td>\n",
       "      <td>Deal if you promise a laugh 😏</td>\n",
       "    </tr>\n",
       "    <tr>\n",
       "      <th>3</th>\n",
       "      <td>26/08/25</td>\n",
       "      <td>1:34 PM</td>\n",
       "      <td>Arun</td>\n",
       "      <td>That smile in your DP… dangerous 😘</td>\n",
       "    </tr>\n",
       "    <tr>\n",
       "      <th>4</th>\n",
       "      <td>26/08/25</td>\n",
       "      <td>1:38 PM</td>\n",
       "      <td>Geetha</td>\n",
       "      <td>Flattery will get you everywhere 🙈</td>\n",
       "    </tr>\n",
       "    <tr>\n",
       "      <th>5</th>\n",
       "      <td>26/08/25</td>\n",
       "      <td>1:36 PM</td>\n",
       "      <td>Arun</td>\n",
       "      <td>Send me your ETA and I’ll match it 🙈</td>\n",
       "    </tr>\n",
       "    <tr>\n",
       "      <th>...</th>\n",
       "      <td>...</td>\n",
       "      <td>...</td>\n",
       "      <td>...</td>\n",
       "      <td>...</td>\n",
       "    </tr>\n",
       "    <tr>\n",
       "      <th>132</th>\n",
       "      <td>25/08/25</td>\n",
       "      <td>12:38 PM</td>\n",
       "      <td>Geetha</td>\n",
       "      <td>Got it. Friends it is 🫶</td>\n",
       "    </tr>\n",
       "    <tr>\n",
       "      <th>133</th>\n",
       "      <td>25/08/25</td>\n",
       "      <td>11:25 AM</td>\n",
       "      <td>Geetha</td>\n",
       "      <td>On my desk</td>\n",
       "    </tr>\n",
       "    <tr>\n",
       "      <th>134</th>\n",
       "      <td>25/08/25</td>\n",
       "      <td>11:29 AM</td>\n",
       "      <td>Geetha</td>\n",
       "      <td>Got it. Friends it is 💼</td>\n",
       "    </tr>\n",
       "    <tr>\n",
       "      <th>135</th>\n",
       "      <td>25/08/25</td>\n",
       "      <td>10:36 AM</td>\n",
       "      <td>Arun</td>\n",
       "      <td>Reminder: rent due today 🫶</td>\n",
       "    </tr>\n",
       "    <tr>\n",
       "      <th>136</th>\n",
       "      <td>25/08/25</td>\n",
       "      <td>10:44 AM</td>\n",
       "      <td>Arun</td>\n",
       "      <td>Anything else needed?</td>\n",
       "    </tr>\n",
       "  </tbody>\n",
       "</table>\n",
       "<p>136 rows × 4 columns</p>\n",
       "</div>"
      ],
      "text/plain": [
       "         Date        Time     Name                                        Chat\n",
       "1    26/08/25   12:46 PM    Geetha   Keep talking like that and I’ll say yes 🙈\n",
       "2    26/08/25   12:47 PM      Arun               Deal if you promise a laugh 😏\n",
       "3    26/08/25    1:34 PM      Arun          That smile in your DP… dangerous 😘\n",
       "4    26/08/25    1:38 PM    Geetha          Flattery will get you everywhere 🙈\n",
       "5    26/08/25    1:36 PM      Arun        Send me your ETA and I’ll match it 🙈\n",
       "..        ...         ...      ...                                         ...\n",
       "132  25/08/25   12:38 PM    Geetha                     Got it. Friends it is 🫶\n",
       "133  25/08/25   11:25 AM    Geetha                                  On my desk\n",
       "134  25/08/25   11:29 AM    Geetha                     Got it. Friends it is 💼\n",
       "135  25/08/25   10:36 AM      Arun                  Reminder: rent due today 🫶\n",
       "136  25/08/25   10:44 AM      Arun                       Anything else needed?\n",
       "\n",
       "[136 rows x 4 columns]"
      ]
     },
     "execution_count": 37,
     "metadata": {},
     "output_type": "execute_result"
    }
   ],
   "source": [
    "df"
   ]
  },
  {
   "cell_type": "code",
   "execution_count": 39,
   "id": "de46cefb-16a9-4bd0-93c5-24a6335f2117",
   "metadata": {},
   "outputs": [
    {
     "name": "stdout",
     "output_type": "stream",
     "text": [
      "<class 'pandas.core.frame.DataFrame'>\n",
      "RangeIndex: 136 entries, 1 to 136\n",
      "Data columns (total 4 columns):\n",
      " #   Column  Non-Null Count  Dtype \n",
      "---  ------  --------------  ----- \n",
      " 0   Date    136 non-null    object\n",
      " 1   Time    136 non-null    object\n",
      " 2   Name    136 non-null    object\n",
      " 3   Chat    136 non-null    object\n",
      "dtypes: object(4)\n",
      "memory usage: 4.4+ KB\n"
     ]
    }
   ],
   "source": [
    "df.info()"
   ]
  },
  {
   "cell_type": "code",
   "execution_count": 41,
   "id": "d2c238b7-2155-434d-bc66-dddfd59c003d",
   "metadata": {},
   "outputs": [
    {
     "name": "stderr",
     "output_type": "stream",
     "text": [
      "C:\\Users\\win\\AppData\\Local\\Temp\\ipykernel_9584\\1971157771.py:2: SettingWithCopyWarning: \n",
      "A value is trying to be set on a copy of a slice from a DataFrame.\n",
      "Try using .loc[row_indexer,col_indexer] = value instead\n",
      "\n",
      "See the caveats in the documentation: https://pandas.pydata.org/pandas-docs/stable/user_guide/indexing.html#returning-a-view-versus-a-copy\n",
      "  df[\"Label\"] = \"\"\n"
     ]
    }
   ],
   "source": [
    "# Add a blank column 'Label' first\n",
    "df[\"Label\"] = \"\"\n",
    "\n",
    "# Assign first 68 rows as 'FLIRT'\n",
    "df.loc[:67, \"Label\"] = \"FLIRT\"\n",
    "\n",
    "# Assign next 68 rows as 'NON_FLIRT'\n",
    "df.loc[68:136, \"Label\"] = \"NON_FLIRT\""
   ]
  },
  {
   "cell_type": "code",
   "execution_count": 43,
   "id": "4006fd1f-aa7f-4792-9135-a7dc10f75844",
   "metadata": {},
   "outputs": [
    {
     "data": {
      "text/html": [
       "<div>\n",
       "<style scoped>\n",
       "    .dataframe tbody tr th:only-of-type {\n",
       "        vertical-align: middle;\n",
       "    }\n",
       "\n",
       "    .dataframe tbody tr th {\n",
       "        vertical-align: top;\n",
       "    }\n",
       "\n",
       "    .dataframe thead th {\n",
       "        text-align: right;\n",
       "    }\n",
       "</style>\n",
       "<table border=\"1\" class=\"dataframe\">\n",
       "  <thead>\n",
       "    <tr style=\"text-align: right;\">\n",
       "      <th></th>\n",
       "      <th>Date</th>\n",
       "      <th>Time</th>\n",
       "      <th>Name</th>\n",
       "      <th>Chat</th>\n",
       "      <th>Label</th>\n",
       "    </tr>\n",
       "  </thead>\n",
       "  <tbody>\n",
       "    <tr>\n",
       "      <th>1</th>\n",
       "      <td>26/08/25</td>\n",
       "      <td>12:46 PM</td>\n",
       "      <td>Geetha</td>\n",
       "      <td>Keep talking like that and I’ll say yes 🙈</td>\n",
       "      <td>FLIRT</td>\n",
       "    </tr>\n",
       "    <tr>\n",
       "      <th>2</th>\n",
       "      <td>26/08/25</td>\n",
       "      <td>12:47 PM</td>\n",
       "      <td>Arun</td>\n",
       "      <td>Deal if you promise a laugh 😏</td>\n",
       "      <td>FLIRT</td>\n",
       "    </tr>\n",
       "    <tr>\n",
       "      <th>3</th>\n",
       "      <td>26/08/25</td>\n",
       "      <td>1:34 PM</td>\n",
       "      <td>Arun</td>\n",
       "      <td>That smile in your DP… dangerous 😘</td>\n",
       "      <td>FLIRT</td>\n",
       "    </tr>\n",
       "    <tr>\n",
       "      <th>4</th>\n",
       "      <td>26/08/25</td>\n",
       "      <td>1:38 PM</td>\n",
       "      <td>Geetha</td>\n",
       "      <td>Flattery will get you everywhere 🙈</td>\n",
       "      <td>FLIRT</td>\n",
       "    </tr>\n",
       "    <tr>\n",
       "      <th>5</th>\n",
       "      <td>26/08/25</td>\n",
       "      <td>1:36 PM</td>\n",
       "      <td>Arun</td>\n",
       "      <td>Send me your ETA and I’ll match it 🙈</td>\n",
       "      <td>FLIRT</td>\n",
       "    </tr>\n",
       "    <tr>\n",
       "      <th>...</th>\n",
       "      <td>...</td>\n",
       "      <td>...</td>\n",
       "      <td>...</td>\n",
       "      <td>...</td>\n",
       "      <td>...</td>\n",
       "    </tr>\n",
       "    <tr>\n",
       "      <th>132</th>\n",
       "      <td>25/08/25</td>\n",
       "      <td>12:38 PM</td>\n",
       "      <td>Geetha</td>\n",
       "      <td>Got it. Friends it is 🫶</td>\n",
       "      <td>NON_FLIRT</td>\n",
       "    </tr>\n",
       "    <tr>\n",
       "      <th>133</th>\n",
       "      <td>25/08/25</td>\n",
       "      <td>11:25 AM</td>\n",
       "      <td>Geetha</td>\n",
       "      <td>On my desk</td>\n",
       "      <td>NON_FLIRT</td>\n",
       "    </tr>\n",
       "    <tr>\n",
       "      <th>134</th>\n",
       "      <td>25/08/25</td>\n",
       "      <td>11:29 AM</td>\n",
       "      <td>Geetha</td>\n",
       "      <td>Got it. Friends it is 💼</td>\n",
       "      <td>NON_FLIRT</td>\n",
       "    </tr>\n",
       "    <tr>\n",
       "      <th>135</th>\n",
       "      <td>25/08/25</td>\n",
       "      <td>10:36 AM</td>\n",
       "      <td>Arun</td>\n",
       "      <td>Reminder: rent due today 🫶</td>\n",
       "      <td>NON_FLIRT</td>\n",
       "    </tr>\n",
       "    <tr>\n",
       "      <th>136</th>\n",
       "      <td>25/08/25</td>\n",
       "      <td>10:44 AM</td>\n",
       "      <td>Arun</td>\n",
       "      <td>Anything else needed?</td>\n",
       "      <td>NON_FLIRT</td>\n",
       "    </tr>\n",
       "  </tbody>\n",
       "</table>\n",
       "<p>136 rows × 5 columns</p>\n",
       "</div>"
      ],
      "text/plain": [
       "         Date        Time     Name  \\\n",
       "1    26/08/25   12:46 PM    Geetha   \n",
       "2    26/08/25   12:47 PM      Arun   \n",
       "3    26/08/25    1:34 PM      Arun   \n",
       "4    26/08/25    1:38 PM    Geetha   \n",
       "5    26/08/25    1:36 PM      Arun   \n",
       "..        ...         ...      ...   \n",
       "132  25/08/25   12:38 PM    Geetha   \n",
       "133  25/08/25   11:25 AM    Geetha   \n",
       "134  25/08/25   11:29 AM    Geetha   \n",
       "135  25/08/25   10:36 AM      Arun   \n",
       "136  25/08/25   10:44 AM      Arun   \n",
       "\n",
       "                                           Chat      Label  \n",
       "1     Keep talking like that and I’ll say yes 🙈      FLIRT  \n",
       "2                 Deal if you promise a laugh 😏      FLIRT  \n",
       "3            That smile in your DP… dangerous 😘      FLIRT  \n",
       "4            Flattery will get you everywhere 🙈      FLIRT  \n",
       "5          Send me your ETA and I’ll match it 🙈      FLIRT  \n",
       "..                                          ...        ...  \n",
       "132                     Got it. Friends it is 🫶  NON_FLIRT  \n",
       "133                                  On my desk  NON_FLIRT  \n",
       "134                     Got it. Friends it is 💼  NON_FLIRT  \n",
       "135                  Reminder: rent due today 🫶  NON_FLIRT  \n",
       "136                       Anything else needed?  NON_FLIRT  \n",
       "\n",
       "[136 rows x 5 columns]"
      ]
     },
     "execution_count": 43,
     "metadata": {},
     "output_type": "execute_result"
    }
   ],
   "source": [
    "df"
   ]
  },
  {
   "cell_type": "code",
   "execution_count": 45,
   "id": "252a1790-5d42-43ce-a2f0-76622087cccf",
   "metadata": {},
   "outputs": [],
   "source": [
    "y=df[\"Label\"]"
   ]
  },
  {
   "cell_type": "code",
   "execution_count": 47,
   "id": "6c3ee1a9-b71a-4280-8f0f-9c3e5fef4c58",
   "metadata": {},
   "outputs": [
    {
     "data": {
      "text/plain": [
       "1          FLIRT\n",
       "2          FLIRT\n",
       "3          FLIRT\n",
       "4          FLIRT\n",
       "5          FLIRT\n",
       "         ...    \n",
       "132    NON_FLIRT\n",
       "133    NON_FLIRT\n",
       "134    NON_FLIRT\n",
       "135    NON_FLIRT\n",
       "136    NON_FLIRT\n",
       "Name: Label, Length: 136, dtype: object"
      ]
     },
     "execution_count": 47,
     "metadata": {},
     "output_type": "execute_result"
    }
   ],
   "source": [
    "y"
   ]
  },
  {
   "cell_type": "code",
   "execution_count": 51,
   "id": "61fc4675-4b69-4f0d-bbec-0669a7765c63",
   "metadata": {},
   "outputs": [],
   "source": [
    "from sklearn.model_selection import train_test_split\n",
    "X_train, X_test, y_train, y_test = train_test_split(df['Chat'], y, test_size=0.33, random_state=53)"
   ]
  },
  {
   "cell_type": "code",
   "execution_count": 55,
   "id": "f1185031-7ea7-499e-baa1-db92aac93eaa",
   "metadata": {},
   "outputs": [
    {
     "name": "stdout",
     "output_type": "stream",
     "text": [
      "[[0.         0.         0.         ... 0.         0.         0.        ]\n",
      " [0.         0.         0.         ... 0.         0.         0.        ]\n",
      " [0.         0.         0.         ... 0.         0.25897662 0.        ]\n",
      " ...\n",
      " [0.         0.         0.         ... 0.         0.20288971 0.        ]\n",
      " [0.         0.         0.         ... 0.         0.         0.        ]\n",
      " [0.         0.         0.         ... 0.         0.25404024 0.        ]]\n",
      "[[0.         0.         0.         ... 0.         0.         0.        ]\n",
      " [0.         0.         0.         ... 0.         0.         0.        ]\n",
      " [0.         0.         0.         ... 0.         0.25897662 0.        ]\n",
      " ...\n",
      " [0.         0.         0.         ... 0.         0.20288971 0.        ]\n",
      " [0.         0.         0.         ... 0.         0.         0.        ]\n",
      " [0.         0.         0.         ... 0.         0.25404024 0.        ]]\n"
     ]
    }
   ],
   "source": [
    "from sklearn.feature_extraction.text import  TfidfVectorizer\n",
    "# Create TF-IDF Vectorizer\n",
    "vectorizer = TfidfVectorizer()\n",
    "\n",
    "# Fit and transform the X_train\n",
    "tfidf_matrix_train = vectorizer.fit_transform(X_train)\n",
    "# Convert to array for easier viewing\n",
    "tfidf_array_train = tfidf_matrix_train.toarray()\n",
    "print(tfidf_array_train)\n",
    "\n",
    "\n",
    "# Fit and transform the X_test\n",
    "tfidf_matrix_test = vectorizer.transform(X_test)\n",
    "# Convert to array for easier viewing\n",
    "tfidf_array_test = tfidf_matrix_train.toarray()\n",
    "print(tfidf_array_test)"
   ]
  },
  {
   "cell_type": "code",
   "execution_count": 77,
   "id": "e9c62931-baa8-4a38-ac85-36f7c9a4cc27",
   "metadata": {},
   "outputs": [
    {
     "name": "stdout",
     "output_type": "stream",
     "text": [
      "accuracy:   0.822\n"
     ]
    }
   ],
   "source": [
    "from sklearn.naive_bayes import MultinomialNB\n",
    "from sklearn import metrics\n",
    "clf = MultinomialNB()\n",
    "\n",
    "clf.fit(tfidf_matrix_train, y_train)\n",
    "pred = clf.predict(tfidf_matrix_test)\n",
    "score = metrics.accuracy_score(y_test, pred)\n",
    "print(\"accuracy:   %0.3f\" % score)\n",
    "\n",
    "cm = metrics.confusion_matrix(y_test, pred, labels=['FLIRT', 'NON_FLIRT'])"
   ]
  },
  {
   "cell_type": "code",
   "execution_count": 75,
   "id": "c9d84b72-d1ed-4f1a-b366-6f3760e0e3c2",
   "metadata": {},
   "outputs": [
    {
     "name": "stdout",
     "output_type": "stream",
     "text": [
      "accuracy:   0.800\n"
     ]
    }
   ],
   "source": [
    "'''from sklearn.feature_extraction.text import HashingVectorizer\n",
    "from sklearn.ensemble import RandomForestClassifier\n",
    "from sklearn.svm import LinearSVC\n",
    "\n",
    "# Create Hashing Vectorizer\n",
    "# n_features = dimensionality of the output vector\n",
    "vectorizer = HashingVectorizer(n_features=10, alternate_sign=False)\n",
    "\n",
    "# Transform the documents\n",
    "hashed_matrix_train = vectorizer.transform(X_train)\n",
    "\n",
    "# Convert to array for readability\n",
    "hashed_array_train = hashed_matrix_train.toarray()\n",
    "\n",
    "hashed_matrix_test = vectorizer.transform(X_test)\n",
    "hashed_array_test = hashed_matrix_test.toarray()\n",
    "\n",
    "# Create Random Forest Classifier\n",
    "rf_clf = RandomForestClassifier(n_estimators=100, random_state=42)\n",
    "\n",
    "# Train model\n",
    "rf_clf.fit(hashed_matrix_train, y_train)\n",
    "\n",
    "# Predictions\n",
    "y_pred = rf_clf.predict(hashed_matrix_test)\n",
    "\n",
    "score = metrics.accuracy_score(y_test, y_pred)\n",
    "print(\"accuracy:   %0.3f\" % score)\n",
    "\n",
    "cm = metrics.confusion_matrix(y_test, pred, labels=['FLIRT', 'NON_FLIRT'])'''"
   ]
  },
  {
   "cell_type": "code",
   "execution_count": 83,
   "id": "55e45607-d5a3-4386-bc9f-74ed8239f964",
   "metadata": {},
   "outputs": [],
   "source": [
    "from sklearn.metrics import classification_report\n",
    "report=classification_report(y_test, pred)"
   ]
  },
  {
   "cell_type": "code",
   "execution_count": 87,
   "id": "1eb421bc-e214-4c60-bafa-1d3496169f1d",
   "metadata": {},
   "outputs": [
    {
     "name": "stdout",
     "output_type": "stream",
     "text": [
      "              precision    recall  f1-score   support\n",
      "\n",
      "       FLIRT       0.72      1.00      0.84        21\n",
      "   NON_FLIRT       1.00      0.67      0.80        24\n",
      "\n",
      "    accuracy                           0.82        45\n",
      "   macro avg       0.86      0.83      0.82        45\n",
      "weighted avg       0.87      0.82      0.82        45\n",
      "\n"
     ]
    }
   ],
   "source": [
    "print(report)"
   ]
  },
  {
   "cell_type": "code",
   "execution_count": 103,
   "id": "bd0c46fc-568d-418d-b0f7-693dd4cf391e",
   "metadata": {},
   "outputs": [
    {
     "data": {
      "text/plain": [
       "' Send me your ETA and I’ll match it 🙈'"
      ]
     },
     "execution_count": 103,
     "metadata": {},
     "output_type": "execute_result"
    }
   ],
   "source": [
    "df['Chat'][5]"
   ]
  },
  {
   "cell_type": "code",
   "execution_count": 107,
   "id": "6eef95bb-9ba7-464f-b191-2387d8168aba",
   "metadata": {},
   "outputs": [
    {
     "data": {
      "text/plain": [
       "51                         It’s a date 😉\n",
       "6                     Wear comfy shoes 🙈\n",
       "40            Call me when you’re free ✨\n",
       "136                Anything else needed?\n",
       "125           Reminder: rent due today 🫶\n",
       "                     ...                \n",
       "128      Mom asked for the recipe link 🤝\n",
       "64         Deal if you promise a laugh 🥰\n",
       "118     Can you share the Wi‑Fi again? 🤝\n",
       "30                Friday rooftop plan? ✨\n",
       "26       Share location when you leave 💬\n",
       "Name: Chat, Length: 91, dtype: object"
      ]
     },
     "execution_count": 107,
     "metadata": {},
     "output_type": "execute_result"
    }
   ],
   "source": [
    "X_train"
   ]
  },
  {
   "cell_type": "code",
   "execution_count": 111,
   "id": "959720fe-f18b-4ca7-b6da-a738febe35dc",
   "metadata": {},
   "outputs": [],
   "source": [
    "# Create TF-IDF Vectorizer\n",
    "vectorizer = TfidfVectorizer()\n",
    "\n",
    "# Fit and transform the X_train\n",
    "tfidf_matrix_train = vectorizer.fit_transform(X_train)"
   ]
  },
  {
   "cell_type": "code",
   "execution_count": 115,
   "id": "08334e04-2600-47d7-b5ff-9b04926a8da8",
   "metadata": {},
   "outputs": [
    {
     "data": {
      "text/plain": [
       "array(['FLIRT'], dtype='<U9')"
      ]
     },
     "execution_count": 115,
     "metadata": {},
     "output_type": "execute_result"
    }
   ],
   "source": [
    "clf.predict(tfidf_matrix_train[[5]])"
   ]
  }
 ],
 "metadata": {
  "kernelspec": {
   "display_name": "Python 3 (ipykernel)",
   "language": "python",
   "name": "python3"
  },
  "language_info": {
   "codemirror_mode": {
    "name": "ipython",
    "version": 3
   },
   "file_extension": ".py",
   "mimetype": "text/x-python",
   "name": "python",
   "nbconvert_exporter": "python",
   "pygments_lexer": "ipython3",
   "version": "3.12.7"
  }
 },
 "nbformat": 4,
 "nbformat_minor": 5
}
