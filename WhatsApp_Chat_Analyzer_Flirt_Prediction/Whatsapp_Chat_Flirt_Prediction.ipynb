{
 "cells": [
  {
   "cell_type": "code",
   "execution_count": 1,
   "id": "1af9f8a8-86ce-4e62-a054-51174aa3b0e7",
   "metadata": {},
   "outputs": [],
   "source": [
    "import pandas as pd"
   ]
  },
  {
   "cell_type": "code",
   "execution_count": 3,
   "id": "6abbb28f-3b49-421a-9f1b-9a8fcdc5754a",
   "metadata": {},
   "outputs": [],
   "source": [
    "##df = pd.read_csv(\"whatsapp_flirt_nonflirt_Chats.txt\",header=None,on_bad_lines=\"skip\",encoding='utf8')\n",
    "df = pd.read_csv(\"whatsapp_flirt_nonflirt_Chats.txt\",header=None,on_bad_lines=\"skip\",encoding='utf8')"
   ]
  },
  {
   "cell_type": "code",
   "execution_count": 5,
   "id": "8e85c368-51c7-4bae-afdf-6db6d36fba38",
   "metadata": {},
   "outputs": [
    {
     "data": {
      "text/html": [
       "<div>\n",
       "<style scoped>\n",
       "    .dataframe tbody tr th:only-of-type {\n",
       "        vertical-align: middle;\n",
       "    }\n",
       "\n",
       "    .dataframe tbody tr th {\n",
       "        vertical-align: top;\n",
       "    }\n",
       "\n",
       "    .dataframe thead th {\n",
       "        text-align: right;\n",
       "    }\n",
       "</style>\n",
       "<table border=\"1\" class=\"dataframe\">\n",
       "  <thead>\n",
       "    <tr style=\"text-align: right;\">\n",
       "      <th></th>\n",
       "      <th>0</th>\n",
       "      <th>1</th>\n",
       "    </tr>\n",
       "  </thead>\n",
       "  <tbody>\n",
       "    <tr>\n",
       "      <th>0</th>\n",
       "      <td>05/12/19</td>\n",
       "      <td>1:42 pm - Messages to this chat and calls are...</td>\n",
       "    </tr>\n",
       "    <tr>\n",
       "      <th>1</th>\n",
       "      <td>26/08/25</td>\n",
       "      <td>12:46 PM - Geetha: Keep talking like that and...</td>\n",
       "    </tr>\n",
       "    <tr>\n",
       "      <th>2</th>\n",
       "      <td>26/08/25</td>\n",
       "      <td>12:47 PM - Arun: Deal if you promise a laugh 😏</td>\n",
       "    </tr>\n",
       "    <tr>\n",
       "      <th>3</th>\n",
       "      <td>26/08/25</td>\n",
       "      <td>1:34 PM - Arun: That smile in your DP… dange...</td>\n",
       "    </tr>\n",
       "    <tr>\n",
       "      <th>4</th>\n",
       "      <td>26/08/25</td>\n",
       "      <td>1:38 PM - Geetha: Flattery will get you ever...</td>\n",
       "    </tr>\n",
       "    <tr>\n",
       "      <th>...</th>\n",
       "      <td>...</td>\n",
       "      <td>...</td>\n",
       "    </tr>\n",
       "    <tr>\n",
       "      <th>132</th>\n",
       "      <td>25/08/25</td>\n",
       "      <td>12:38 PM - Geetha: Got it. Friends it is 🫶</td>\n",
       "    </tr>\n",
       "    <tr>\n",
       "      <th>133</th>\n",
       "      <td>25/08/25</td>\n",
       "      <td>11:25 AM - Geetha: On my desk</td>\n",
       "    </tr>\n",
       "    <tr>\n",
       "      <th>134</th>\n",
       "      <td>25/08/25</td>\n",
       "      <td>11:29 AM - Geetha: Got it. Friends it is 💼</td>\n",
       "    </tr>\n",
       "    <tr>\n",
       "      <th>135</th>\n",
       "      <td>25/08/25</td>\n",
       "      <td>10:36 AM - Arun: Reminder: rent due today 🫶</td>\n",
       "    </tr>\n",
       "    <tr>\n",
       "      <th>136</th>\n",
       "      <td>25/08/25</td>\n",
       "      <td>10:44 AM - Arun: Anything else needed?</td>\n",
       "    </tr>\n",
       "  </tbody>\n",
       "</table>\n",
       "<p>137 rows × 2 columns</p>\n",
       "</div>"
      ],
      "text/plain": [
       "            0                                                  1\n",
       "0    05/12/19   1:42 pm - Messages to this chat and calls are...\n",
       "1    26/08/25   12:46 PM - Geetha: Keep talking like that and...\n",
       "2    26/08/25     12:47 PM - Arun: Deal if you promise a laugh 😏\n",
       "3    26/08/25    1:34 PM - Arun: That smile in your DP… dange...\n",
       "4    26/08/25    1:38 PM - Geetha: Flattery will get you ever...\n",
       "..        ...                                                ...\n",
       "132  25/08/25         12:38 PM - Geetha: Got it. Friends it is 🫶\n",
       "133  25/08/25                      11:25 AM - Geetha: On my desk\n",
       "134  25/08/25         11:29 AM - Geetha: Got it. Friends it is 💼\n",
       "135  25/08/25        10:36 AM - Arun: Reminder: rent due today 🫶\n",
       "136  25/08/25             10:44 AM - Arun: Anything else needed?\n",
       "\n",
       "[137 rows x 2 columns]"
      ]
     },
     "execution_count": 5,
     "metadata": {},
     "output_type": "execute_result"
    }
   ],
   "source": [
    "df"
   ]
  },
  {
   "cell_type": "markdown",
   "id": "cd2afc4b-24ce-461f-88ee-d9d5afe14113",
   "metadata": {},
   "source": [
    "# Whatsapp Chat Dataset Preprocessing starts here "
   ]
  },
  {
   "cell_type": "code",
   "execution_count": 7,
   "id": "777034ae-da40-4871-b268-cc23cb54932f",
   "metadata": {},
   "outputs": [
    {
     "data": {
      "text/plain": [
       "0    0\n",
       "1    0\n",
       "dtype: int64"
      ]
     },
     "execution_count": 7,
     "metadata": {},
     "output_type": "execute_result"
    }
   ],
   "source": [
    "df.isnull().sum()"
   ]
  },
  {
   "cell_type": "code",
   "execution_count": 9,
   "id": "fde9f455-c455-4536-bd9d-98329a8f7539",
   "metadata": {},
   "outputs": [],
   "source": [
    "df=df.drop(0)"
   ]
  },
  {
   "cell_type": "code",
   "execution_count": 11,
   "id": "4d4c97df-0761-4780-8b2c-89c5b7d511b4",
   "metadata": {},
   "outputs": [
    {
     "data": {
      "text/html": [
       "<div>\n",
       "<style scoped>\n",
       "    .dataframe tbody tr th:only-of-type {\n",
       "        vertical-align: middle;\n",
       "    }\n",
       "\n",
       "    .dataframe tbody tr th {\n",
       "        vertical-align: top;\n",
       "    }\n",
       "\n",
       "    .dataframe thead th {\n",
       "        text-align: right;\n",
       "    }\n",
       "</style>\n",
       "<table border=\"1\" class=\"dataframe\">\n",
       "  <thead>\n",
       "    <tr style=\"text-align: right;\">\n",
       "      <th></th>\n",
       "      <th>0</th>\n",
       "      <th>1</th>\n",
       "    </tr>\n",
       "  </thead>\n",
       "  <tbody>\n",
       "    <tr>\n",
       "      <th>1</th>\n",
       "      <td>26/08/25</td>\n",
       "      <td>12:46 PM - Geetha: Keep talking like that and...</td>\n",
       "    </tr>\n",
       "    <tr>\n",
       "      <th>2</th>\n",
       "      <td>26/08/25</td>\n",
       "      <td>12:47 PM - Arun: Deal if you promise a laugh 😏</td>\n",
       "    </tr>\n",
       "    <tr>\n",
       "      <th>3</th>\n",
       "      <td>26/08/25</td>\n",
       "      <td>1:34 PM - Arun: That smile in your DP… dange...</td>\n",
       "    </tr>\n",
       "    <tr>\n",
       "      <th>4</th>\n",
       "      <td>26/08/25</td>\n",
       "      <td>1:38 PM - Geetha: Flattery will get you ever...</td>\n",
       "    </tr>\n",
       "    <tr>\n",
       "      <th>5</th>\n",
       "      <td>26/08/25</td>\n",
       "      <td>1:36 PM - Arun: Send me your ETA and I’ll ma...</td>\n",
       "    </tr>\n",
       "    <tr>\n",
       "      <th>...</th>\n",
       "      <td>...</td>\n",
       "      <td>...</td>\n",
       "    </tr>\n",
       "    <tr>\n",
       "      <th>132</th>\n",
       "      <td>25/08/25</td>\n",
       "      <td>12:38 PM - Geetha: Got it. Friends it is 🫶</td>\n",
       "    </tr>\n",
       "    <tr>\n",
       "      <th>133</th>\n",
       "      <td>25/08/25</td>\n",
       "      <td>11:25 AM - Geetha: On my desk</td>\n",
       "    </tr>\n",
       "    <tr>\n",
       "      <th>134</th>\n",
       "      <td>25/08/25</td>\n",
       "      <td>11:29 AM - Geetha: Got it. Friends it is 💼</td>\n",
       "    </tr>\n",
       "    <tr>\n",
       "      <th>135</th>\n",
       "      <td>25/08/25</td>\n",
       "      <td>10:36 AM - Arun: Reminder: rent due today 🫶</td>\n",
       "    </tr>\n",
       "    <tr>\n",
       "      <th>136</th>\n",
       "      <td>25/08/25</td>\n",
       "      <td>10:44 AM - Arun: Anything else needed?</td>\n",
       "    </tr>\n",
       "  </tbody>\n",
       "</table>\n",
       "<p>136 rows × 2 columns</p>\n",
       "</div>"
      ],
      "text/plain": [
       "            0                                                  1\n",
       "1    26/08/25   12:46 PM - Geetha: Keep talking like that and...\n",
       "2    26/08/25     12:47 PM - Arun: Deal if you promise a laugh 😏\n",
       "3    26/08/25    1:34 PM - Arun: That smile in your DP… dange...\n",
       "4    26/08/25    1:38 PM - Geetha: Flattery will get you ever...\n",
       "5    26/08/25    1:36 PM - Arun: Send me your ETA and I’ll ma...\n",
       "..        ...                                                ...\n",
       "132  25/08/25         12:38 PM - Geetha: Got it. Friends it is 🫶\n",
       "133  25/08/25                      11:25 AM - Geetha: On my desk\n",
       "134  25/08/25         11:29 AM - Geetha: Got it. Friends it is 💼\n",
       "135  25/08/25        10:36 AM - Arun: Reminder: rent due today 🫶\n",
       "136  25/08/25             10:44 AM - Arun: Anything else needed?\n",
       "\n",
       "[136 rows x 2 columns]"
      ]
     },
     "execution_count": 11,
     "metadata": {},
     "output_type": "execute_result"
    }
   ],
   "source": [
    "df"
   ]
  },
  {
   "cell_type": "code",
   "execution_count": 13,
   "id": "dcd50b92-206f-49e3-b4db-67af115496d6",
   "metadata": {},
   "outputs": [],
   "source": [
    "df.columns=['Date','Chat']"
   ]
  },
  {
   "cell_type": "code",
   "execution_count": 15,
   "id": "92bd25a0-512a-48e5-9277-a31f50a008ef",
   "metadata": {},
   "outputs": [
    {
     "data": {
      "text/html": [
       "<div>\n",
       "<style scoped>\n",
       "    .dataframe tbody tr th:only-of-type {\n",
       "        vertical-align: middle;\n",
       "    }\n",
       "\n",
       "    .dataframe tbody tr th {\n",
       "        vertical-align: top;\n",
       "    }\n",
       "\n",
       "    .dataframe thead th {\n",
       "        text-align: right;\n",
       "    }\n",
       "</style>\n",
       "<table border=\"1\" class=\"dataframe\">\n",
       "  <thead>\n",
       "    <tr style=\"text-align: right;\">\n",
       "      <th></th>\n",
       "      <th>Date</th>\n",
       "      <th>Chat</th>\n",
       "    </tr>\n",
       "  </thead>\n",
       "  <tbody>\n",
       "    <tr>\n",
       "      <th>1</th>\n",
       "      <td>26/08/25</td>\n",
       "      <td>12:46 PM - Geetha: Keep talking like that and...</td>\n",
       "    </tr>\n",
       "    <tr>\n",
       "      <th>2</th>\n",
       "      <td>26/08/25</td>\n",
       "      <td>12:47 PM - Arun: Deal if you promise a laugh 😏</td>\n",
       "    </tr>\n",
       "    <tr>\n",
       "      <th>3</th>\n",
       "      <td>26/08/25</td>\n",
       "      <td>1:34 PM - Arun: That smile in your DP… dange...</td>\n",
       "    </tr>\n",
       "    <tr>\n",
       "      <th>4</th>\n",
       "      <td>26/08/25</td>\n",
       "      <td>1:38 PM - Geetha: Flattery will get you ever...</td>\n",
       "    </tr>\n",
       "    <tr>\n",
       "      <th>5</th>\n",
       "      <td>26/08/25</td>\n",
       "      <td>1:36 PM - Arun: Send me your ETA and I’ll ma...</td>\n",
       "    </tr>\n",
       "    <tr>\n",
       "      <th>...</th>\n",
       "      <td>...</td>\n",
       "      <td>...</td>\n",
       "    </tr>\n",
       "    <tr>\n",
       "      <th>132</th>\n",
       "      <td>25/08/25</td>\n",
       "      <td>12:38 PM - Geetha: Got it. Friends it is 🫶</td>\n",
       "    </tr>\n",
       "    <tr>\n",
       "      <th>133</th>\n",
       "      <td>25/08/25</td>\n",
       "      <td>11:25 AM - Geetha: On my desk</td>\n",
       "    </tr>\n",
       "    <tr>\n",
       "      <th>134</th>\n",
       "      <td>25/08/25</td>\n",
       "      <td>11:29 AM - Geetha: Got it. Friends it is 💼</td>\n",
       "    </tr>\n",
       "    <tr>\n",
       "      <th>135</th>\n",
       "      <td>25/08/25</td>\n",
       "      <td>10:36 AM - Arun: Reminder: rent due today 🫶</td>\n",
       "    </tr>\n",
       "    <tr>\n",
       "      <th>136</th>\n",
       "      <td>25/08/25</td>\n",
       "      <td>10:44 AM - Arun: Anything else needed?</td>\n",
       "    </tr>\n",
       "  </tbody>\n",
       "</table>\n",
       "<p>136 rows × 2 columns</p>\n",
       "</div>"
      ],
      "text/plain": [
       "         Date                                               Chat\n",
       "1    26/08/25   12:46 PM - Geetha: Keep talking like that and...\n",
       "2    26/08/25     12:47 PM - Arun: Deal if you promise a laugh 😏\n",
       "3    26/08/25    1:34 PM - Arun: That smile in your DP… dange...\n",
       "4    26/08/25    1:38 PM - Geetha: Flattery will get you ever...\n",
       "5    26/08/25    1:36 PM - Arun: Send me your ETA and I’ll ma...\n",
       "..        ...                                                ...\n",
       "132  25/08/25         12:38 PM - Geetha: Got it. Friends it is 🫶\n",
       "133  25/08/25                      11:25 AM - Geetha: On my desk\n",
       "134  25/08/25         11:29 AM - Geetha: Got it. Friends it is 💼\n",
       "135  25/08/25        10:36 AM - Arun: Reminder: rent due today 🫶\n",
       "136  25/08/25             10:44 AM - Arun: Anything else needed?\n",
       "\n",
       "[136 rows x 2 columns]"
      ]
     },
     "execution_count": 15,
     "metadata": {},
     "output_type": "execute_result"
    }
   ],
   "source": [
    "df"
   ]
  },
  {
   "cell_type": "code",
   "execution_count": 17,
   "id": "95115d1b-9c57-4830-a3dc-06f1914e2bcc",
   "metadata": {},
   "outputs": [],
   "source": [
    "Message=df[\"Chat\"].str.split(\"-\",n=1,expand=True)"
   ]
  },
  {
   "cell_type": "code",
   "execution_count": 19,
   "id": "82612eca-6a52-40e9-8cb2-642b6fc6508f",
   "metadata": {},
   "outputs": [
    {
     "data": {
      "text/html": [
       "<div>\n",
       "<style scoped>\n",
       "    .dataframe tbody tr th:only-of-type {\n",
       "        vertical-align: middle;\n",
       "    }\n",
       "\n",
       "    .dataframe tbody tr th {\n",
       "        vertical-align: top;\n",
       "    }\n",
       "\n",
       "    .dataframe thead th {\n",
       "        text-align: right;\n",
       "    }\n",
       "</style>\n",
       "<table border=\"1\" class=\"dataframe\">\n",
       "  <thead>\n",
       "    <tr style=\"text-align: right;\">\n",
       "      <th></th>\n",
       "      <th>0</th>\n",
       "      <th>1</th>\n",
       "    </tr>\n",
       "  </thead>\n",
       "  <tbody>\n",
       "    <tr>\n",
       "      <th>1</th>\n",
       "      <td>12:46 PM</td>\n",
       "      <td>Geetha: Keep talking like that and I’ll say y...</td>\n",
       "    </tr>\n",
       "    <tr>\n",
       "      <th>2</th>\n",
       "      <td>12:47 PM</td>\n",
       "      <td>Arun: Deal if you promise a laugh 😏</td>\n",
       "    </tr>\n",
       "    <tr>\n",
       "      <th>3</th>\n",
       "      <td>1:34 PM</td>\n",
       "      <td>Arun: That smile in your DP… dangerous 😘</td>\n",
       "    </tr>\n",
       "    <tr>\n",
       "      <th>4</th>\n",
       "      <td>1:38 PM</td>\n",
       "      <td>Geetha: Flattery will get you everywhere 🙈</td>\n",
       "    </tr>\n",
       "    <tr>\n",
       "      <th>5</th>\n",
       "      <td>1:36 PM</td>\n",
       "      <td>Arun: Send me your ETA and I’ll match it 🙈</td>\n",
       "    </tr>\n",
       "    <tr>\n",
       "      <th>...</th>\n",
       "      <td>...</td>\n",
       "      <td>...</td>\n",
       "    </tr>\n",
       "    <tr>\n",
       "      <th>132</th>\n",
       "      <td>12:38 PM</td>\n",
       "      <td>Geetha: Got it. Friends it is 🫶</td>\n",
       "    </tr>\n",
       "    <tr>\n",
       "      <th>133</th>\n",
       "      <td>11:25 AM</td>\n",
       "      <td>Geetha: On my desk</td>\n",
       "    </tr>\n",
       "    <tr>\n",
       "      <th>134</th>\n",
       "      <td>11:29 AM</td>\n",
       "      <td>Geetha: Got it. Friends it is 💼</td>\n",
       "    </tr>\n",
       "    <tr>\n",
       "      <th>135</th>\n",
       "      <td>10:36 AM</td>\n",
       "      <td>Arun: Reminder: rent due today 🫶</td>\n",
       "    </tr>\n",
       "    <tr>\n",
       "      <th>136</th>\n",
       "      <td>10:44 AM</td>\n",
       "      <td>Arun: Anything else needed?</td>\n",
       "    </tr>\n",
       "  </tbody>\n",
       "</table>\n",
       "<p>136 rows × 2 columns</p>\n",
       "</div>"
      ],
      "text/plain": [
       "              0                                                  1\n",
       "1     12:46 PM    Geetha: Keep talking like that and I’ll say y...\n",
       "2     12:47 PM                 Arun: Deal if you promise a laugh 😏\n",
       "3      1:34 PM            Arun: That smile in your DP… dangerous 😘\n",
       "4      1:38 PM          Geetha: Flattery will get you everywhere 🙈\n",
       "5      1:36 PM          Arun: Send me your ETA and I’ll match it 🙈\n",
       "..          ...                                                ...\n",
       "132   12:38 PM                     Geetha: Got it. Friends it is 🫶\n",
       "133   11:25 AM                                  Geetha: On my desk\n",
       "134   11:29 AM                     Geetha: Got it. Friends it is 💼\n",
       "135   10:36 AM                    Arun: Reminder: rent due today 🫶\n",
       "136   10:44 AM                         Arun: Anything else needed?\n",
       "\n",
       "[136 rows x 2 columns]"
      ]
     },
     "execution_count": 19,
     "metadata": {},
     "output_type": "execute_result"
    }
   ],
   "source": [
    "Message"
   ]
  },
  {
   "cell_type": "code",
   "execution_count": 21,
   "id": "162f9c71-89e6-43c0-b448-8d12f19afb6d",
   "metadata": {},
   "outputs": [],
   "source": [
    "df[\"Time\"]=Message[0]"
   ]
  },
  {
   "cell_type": "code",
   "execution_count": 23,
   "id": "4f634555-bb41-428d-852d-e8bc1202ff65",
   "metadata": {},
   "outputs": [
    {
     "data": {
      "text/plain": [
       "1       12:46 PM \n",
       "2       12:47 PM \n",
       "3        1:34 PM \n",
       "4        1:38 PM \n",
       "5        1:36 PM \n",
       "          ...    \n",
       "132     12:38 PM \n",
       "133     11:25 AM \n",
       "134     11:29 AM \n",
       "135     10:36 AM \n",
       "136     10:44 AM \n",
       "Name: Time, Length: 136, dtype: object"
      ]
     },
     "execution_count": 23,
     "metadata": {},
     "output_type": "execute_result"
    }
   ],
   "source": [
    "df[\"Time\"]"
   ]
  },
  {
   "cell_type": "code",
   "execution_count": 25,
   "id": "618ae11f-a4e9-438f-9991-d9ba8ba81aab",
   "metadata": {},
   "outputs": [],
   "source": [
    "Message1=Message[1].str.split(\":\",n=1,expand=True)"
   ]
  },
  {
   "cell_type": "code",
   "execution_count": 27,
   "id": "6a5d1b5a-d2fa-467c-aeeb-c0f174356f0c",
   "metadata": {},
   "outputs": [
    {
     "data": {
      "text/html": [
       "<div>\n",
       "<style scoped>\n",
       "    .dataframe tbody tr th:only-of-type {\n",
       "        vertical-align: middle;\n",
       "    }\n",
       "\n",
       "    .dataframe tbody tr th {\n",
       "        vertical-align: top;\n",
       "    }\n",
       "\n",
       "    .dataframe thead th {\n",
       "        text-align: right;\n",
       "    }\n",
       "</style>\n",
       "<table border=\"1\" class=\"dataframe\">\n",
       "  <thead>\n",
       "    <tr style=\"text-align: right;\">\n",
       "      <th></th>\n",
       "      <th>0</th>\n",
       "      <th>1</th>\n",
       "    </tr>\n",
       "  </thead>\n",
       "  <tbody>\n",
       "    <tr>\n",
       "      <th>1</th>\n",
       "      <td>Geetha</td>\n",
       "      <td>Keep talking like that and I’ll say yes 🙈</td>\n",
       "    </tr>\n",
       "    <tr>\n",
       "      <th>2</th>\n",
       "      <td>Arun</td>\n",
       "      <td>Deal if you promise a laugh 😏</td>\n",
       "    </tr>\n",
       "    <tr>\n",
       "      <th>3</th>\n",
       "      <td>Arun</td>\n",
       "      <td>That smile in your DP… dangerous 😘</td>\n",
       "    </tr>\n",
       "    <tr>\n",
       "      <th>4</th>\n",
       "      <td>Geetha</td>\n",
       "      <td>Flattery will get you everywhere 🙈</td>\n",
       "    </tr>\n",
       "    <tr>\n",
       "      <th>5</th>\n",
       "      <td>Arun</td>\n",
       "      <td>Send me your ETA and I’ll match it 🙈</td>\n",
       "    </tr>\n",
       "    <tr>\n",
       "      <th>...</th>\n",
       "      <td>...</td>\n",
       "      <td>...</td>\n",
       "    </tr>\n",
       "    <tr>\n",
       "      <th>132</th>\n",
       "      <td>Geetha</td>\n",
       "      <td>Got it. Friends it is 🫶</td>\n",
       "    </tr>\n",
       "    <tr>\n",
       "      <th>133</th>\n",
       "      <td>Geetha</td>\n",
       "      <td>On my desk</td>\n",
       "    </tr>\n",
       "    <tr>\n",
       "      <th>134</th>\n",
       "      <td>Geetha</td>\n",
       "      <td>Got it. Friends it is 💼</td>\n",
       "    </tr>\n",
       "    <tr>\n",
       "      <th>135</th>\n",
       "      <td>Arun</td>\n",
       "      <td>Reminder: rent due today 🫶</td>\n",
       "    </tr>\n",
       "    <tr>\n",
       "      <th>136</th>\n",
       "      <td>Arun</td>\n",
       "      <td>Anything else needed?</td>\n",
       "    </tr>\n",
       "  </tbody>\n",
       "</table>\n",
       "<p>136 rows × 2 columns</p>\n",
       "</div>"
      ],
      "text/plain": [
       "           0                                           1\n",
       "1     Geetha   Keep talking like that and I’ll say yes 🙈\n",
       "2       Arun               Deal if you promise a laugh 😏\n",
       "3       Arun          That smile in your DP… dangerous 😘\n",
       "4     Geetha          Flattery will get you everywhere 🙈\n",
       "5       Arun        Send me your ETA and I’ll match it 🙈\n",
       "..       ...                                         ...\n",
       "132   Geetha                     Got it. Friends it is 🫶\n",
       "133   Geetha                                  On my desk\n",
       "134   Geetha                     Got it. Friends it is 💼\n",
       "135     Arun                  Reminder: rent due today 🫶\n",
       "136     Arun                       Anything else needed?\n",
       "\n",
       "[136 rows x 2 columns]"
      ]
     },
     "execution_count": 27,
     "metadata": {},
     "output_type": "execute_result"
    }
   ],
   "source": [
    "Message1"
   ]
  },
  {
   "cell_type": "code",
   "execution_count": 29,
   "id": "4e3ea5b5-4087-4c75-a4ac-b679a10fb17e",
   "metadata": {},
   "outputs": [],
   "source": [
    "df[\"Name\"]=Message1[0]\n",
    "df[\"Chat\"]=Message1[1]"
   ]
  },
  {
   "cell_type": "code",
   "execution_count": 31,
   "id": "e3ebbd0f-5ac2-41b0-b5d4-cc890de122fe",
   "metadata": {},
   "outputs": [
    {
     "data": {
      "text/plain": [
       "1       Geetha\n",
       "2         Arun\n",
       "3         Arun\n",
       "4       Geetha\n",
       "5         Arun\n",
       "        ...   \n",
       "132     Geetha\n",
       "133     Geetha\n",
       "134     Geetha\n",
       "135       Arun\n",
       "136       Arun\n",
       "Name: Name, Length: 136, dtype: object"
      ]
     },
     "execution_count": 31,
     "metadata": {},
     "output_type": "execute_result"
    }
   ],
   "source": [
    "df[\"Name\"]"
   ]
  },
  {
   "cell_type": "code",
   "execution_count": 33,
   "id": "4142612f-6a1c-4cf0-aa20-3e39cc1cd993",
   "metadata": {},
   "outputs": [
    {
     "data": {
      "text/plain": [
       "1       Keep talking like that and I’ll say yes 🙈\n",
       "2                   Deal if you promise a laugh 😏\n",
       "3              That smile in your DP… dangerous 😘\n",
       "4              Flattery will get you everywhere 🙈\n",
       "5            Send me your ETA and I’ll match it 🙈\n",
       "                          ...                    \n",
       "132                       Got it. Friends it is 🫶\n",
       "133                                    On my desk\n",
       "134                       Got it. Friends it is 💼\n",
       "135                    Reminder: rent due today 🫶\n",
       "136                         Anything else needed?\n",
       "Name: Chat, Length: 136, dtype: object"
      ]
     },
     "execution_count": 33,
     "metadata": {},
     "output_type": "execute_result"
    }
   ],
   "source": [
    "df[\"Chat\"]"
   ]
  },
  {
   "cell_type": "code",
   "execution_count": 35,
   "id": "1e3b27d7-6034-487c-ae1b-5bdf5437b4fb",
   "metadata": {},
   "outputs": [],
   "source": [
    "df=df[[\"Date\",\"Time\",\"Name\",\"Chat\"]]"
   ]
  },
  {
   "cell_type": "code",
   "execution_count": 37,
   "id": "be354789-d60e-4843-a6b7-61aef7b4b4ff",
   "metadata": {},
   "outputs": [
    {
     "data": {
      "text/html": [
       "<div>\n",
       "<style scoped>\n",
       "    .dataframe tbody tr th:only-of-type {\n",
       "        vertical-align: middle;\n",
       "    }\n",
       "\n",
       "    .dataframe tbody tr th {\n",
       "        vertical-align: top;\n",
       "    }\n",
       "\n",
       "    .dataframe thead th {\n",
       "        text-align: right;\n",
       "    }\n",
       "</style>\n",
       "<table border=\"1\" class=\"dataframe\">\n",
       "  <thead>\n",
       "    <tr style=\"text-align: right;\">\n",
       "      <th></th>\n",
       "      <th>Date</th>\n",
       "      <th>Time</th>\n",
       "      <th>Name</th>\n",
       "      <th>Chat</th>\n",
       "    </tr>\n",
       "  </thead>\n",
       "  <tbody>\n",
       "    <tr>\n",
       "      <th>1</th>\n",
       "      <td>26/08/25</td>\n",
       "      <td>12:46 PM</td>\n",
       "      <td>Geetha</td>\n",
       "      <td>Keep talking like that and I’ll say yes 🙈</td>\n",
       "    </tr>\n",
       "    <tr>\n",
       "      <th>2</th>\n",
       "      <td>26/08/25</td>\n",
       "      <td>12:47 PM</td>\n",
       "      <td>Arun</td>\n",
       "      <td>Deal if you promise a laugh 😏</td>\n",
       "    </tr>\n",
       "    <tr>\n",
       "      <th>3</th>\n",
       "      <td>26/08/25</td>\n",
       "      <td>1:34 PM</td>\n",
       "      <td>Arun</td>\n",
       "      <td>That smile in your DP… dangerous 😘</td>\n",
       "    </tr>\n",
       "    <tr>\n",
       "      <th>4</th>\n",
       "      <td>26/08/25</td>\n",
       "      <td>1:38 PM</td>\n",
       "      <td>Geetha</td>\n",
       "      <td>Flattery will get you everywhere 🙈</td>\n",
       "    </tr>\n",
       "    <tr>\n",
       "      <th>5</th>\n",
       "      <td>26/08/25</td>\n",
       "      <td>1:36 PM</td>\n",
       "      <td>Arun</td>\n",
       "      <td>Send me your ETA and I’ll match it 🙈</td>\n",
       "    </tr>\n",
       "    <tr>\n",
       "      <th>...</th>\n",
       "      <td>...</td>\n",
       "      <td>...</td>\n",
       "      <td>...</td>\n",
       "      <td>...</td>\n",
       "    </tr>\n",
       "    <tr>\n",
       "      <th>132</th>\n",
       "      <td>25/08/25</td>\n",
       "      <td>12:38 PM</td>\n",
       "      <td>Geetha</td>\n",
       "      <td>Got it. Friends it is 🫶</td>\n",
       "    </tr>\n",
       "    <tr>\n",
       "      <th>133</th>\n",
       "      <td>25/08/25</td>\n",
       "      <td>11:25 AM</td>\n",
       "      <td>Geetha</td>\n",
       "      <td>On my desk</td>\n",
       "    </tr>\n",
       "    <tr>\n",
       "      <th>134</th>\n",
       "      <td>25/08/25</td>\n",
       "      <td>11:29 AM</td>\n",
       "      <td>Geetha</td>\n",
       "      <td>Got it. Friends it is 💼</td>\n",
       "    </tr>\n",
       "    <tr>\n",
       "      <th>135</th>\n",
       "      <td>25/08/25</td>\n",
       "      <td>10:36 AM</td>\n",
       "      <td>Arun</td>\n",
       "      <td>Reminder: rent due today 🫶</td>\n",
       "    </tr>\n",
       "    <tr>\n",
       "      <th>136</th>\n",
       "      <td>25/08/25</td>\n",
       "      <td>10:44 AM</td>\n",
       "      <td>Arun</td>\n",
       "      <td>Anything else needed?</td>\n",
       "    </tr>\n",
       "  </tbody>\n",
       "</table>\n",
       "<p>136 rows × 4 columns</p>\n",
       "</div>"
      ],
      "text/plain": [
       "         Date        Time     Name                                        Chat\n",
       "1    26/08/25   12:46 PM    Geetha   Keep talking like that and I’ll say yes 🙈\n",
       "2    26/08/25   12:47 PM      Arun               Deal if you promise a laugh 😏\n",
       "3    26/08/25    1:34 PM      Arun          That smile in your DP… dangerous 😘\n",
       "4    26/08/25    1:38 PM    Geetha          Flattery will get you everywhere 🙈\n",
       "5    26/08/25    1:36 PM      Arun        Send me your ETA and I’ll match it 🙈\n",
       "..        ...         ...      ...                                         ...\n",
       "132  25/08/25   12:38 PM    Geetha                     Got it. Friends it is 🫶\n",
       "133  25/08/25   11:25 AM    Geetha                                  On my desk\n",
       "134  25/08/25   11:29 AM    Geetha                     Got it. Friends it is 💼\n",
       "135  25/08/25   10:36 AM      Arun                  Reminder: rent due today 🫶\n",
       "136  25/08/25   10:44 AM      Arun                       Anything else needed?\n",
       "\n",
       "[136 rows x 4 columns]"
      ]
     },
     "execution_count": 37,
     "metadata": {},
     "output_type": "execute_result"
    }
   ],
   "source": [
    "df"
   ]
  },
  {
   "cell_type": "code",
   "execution_count": 39,
   "id": "de46cefb-16a9-4bd0-93c5-24a6335f2117",
   "metadata": {},
   "outputs": [
    {
     "name": "stdout",
     "output_type": "stream",
     "text": [
      "<class 'pandas.core.frame.DataFrame'>\n",
      "RangeIndex: 136 entries, 1 to 136\n",
      "Data columns (total 4 columns):\n",
      " #   Column  Non-Null Count  Dtype \n",
      "---  ------  --------------  ----- \n",
      " 0   Date    136 non-null    object\n",
      " 1   Time    136 non-null    object\n",
      " 2   Name    136 non-null    object\n",
      " 3   Chat    136 non-null    object\n",
      "dtypes: object(4)\n",
      "memory usage: 4.4+ KB\n"
     ]
    }
   ],
   "source": [
    "df.info()"
   ]
  },
  {
   "cell_type": "markdown",
   "id": "79a2d414-00b2-4d80-8116-96747ab4d1b1",
   "metadata": {},
   "source": [
    "#  Labelling each row of a dataset as 'FLIRT' or 'NON_FLIRT'"
   ]
  },
  {
   "cell_type": "code",
   "execution_count": 41,
   "id": "d2c238b7-2155-434d-bc66-dddfd59c003d",
   "metadata": {},
   "outputs": [
    {
     "name": "stderr",
     "output_type": "stream",
     "text": [
      "C:\\Users\\win\\AppData\\Local\\Temp\\ipykernel_4328\\1971157771.py:2: SettingWithCopyWarning: \n",
      "A value is trying to be set on a copy of a slice from a DataFrame.\n",
      "Try using .loc[row_indexer,col_indexer] = value instead\n",
      "\n",
      "See the caveats in the documentation: https://pandas.pydata.org/pandas-docs/stable/user_guide/indexing.html#returning-a-view-versus-a-copy\n",
      "  df[\"Label\"] = \"\"\n"
     ]
    }
   ],
   "source": [
    "# Add a blank column 'Label' first\n",
    "df[\"Label\"] = \"\"\n",
    "\n",
    "# Assign first 68 rows as 'FLIRT'\n",
    "df.loc[:67, \"Label\"] = \"FLIRT\"\n",
    "\n",
    "# Assign next 68 rows as 'NON_FLIRT'\n",
    "df.loc[68:136, \"Label\"] = \"NON_FLIRT\""
   ]
  },
  {
   "cell_type": "code",
   "execution_count": 43,
   "id": "4006fd1f-aa7f-4792-9135-a7dc10f75844",
   "metadata": {},
   "outputs": [
    {
     "data": {
      "text/html": [
       "<div>\n",
       "<style scoped>\n",
       "    .dataframe tbody tr th:only-of-type {\n",
       "        vertical-align: middle;\n",
       "    }\n",
       "\n",
       "    .dataframe tbody tr th {\n",
       "        vertical-align: top;\n",
       "    }\n",
       "\n",
       "    .dataframe thead th {\n",
       "        text-align: right;\n",
       "    }\n",
       "</style>\n",
       "<table border=\"1\" class=\"dataframe\">\n",
       "  <thead>\n",
       "    <tr style=\"text-align: right;\">\n",
       "      <th></th>\n",
       "      <th>Date</th>\n",
       "      <th>Time</th>\n",
       "      <th>Name</th>\n",
       "      <th>Chat</th>\n",
       "      <th>Label</th>\n",
       "    </tr>\n",
       "  </thead>\n",
       "  <tbody>\n",
       "    <tr>\n",
       "      <th>1</th>\n",
       "      <td>26/08/25</td>\n",
       "      <td>12:46 PM</td>\n",
       "      <td>Geetha</td>\n",
       "      <td>Keep talking like that and I’ll say yes 🙈</td>\n",
       "      <td>FLIRT</td>\n",
       "    </tr>\n",
       "    <tr>\n",
       "      <th>2</th>\n",
       "      <td>26/08/25</td>\n",
       "      <td>12:47 PM</td>\n",
       "      <td>Arun</td>\n",
       "      <td>Deal if you promise a laugh 😏</td>\n",
       "      <td>FLIRT</td>\n",
       "    </tr>\n",
       "    <tr>\n",
       "      <th>3</th>\n",
       "      <td>26/08/25</td>\n",
       "      <td>1:34 PM</td>\n",
       "      <td>Arun</td>\n",
       "      <td>That smile in your DP… dangerous 😘</td>\n",
       "      <td>FLIRT</td>\n",
       "    </tr>\n",
       "    <tr>\n",
       "      <th>4</th>\n",
       "      <td>26/08/25</td>\n",
       "      <td>1:38 PM</td>\n",
       "      <td>Geetha</td>\n",
       "      <td>Flattery will get you everywhere 🙈</td>\n",
       "      <td>FLIRT</td>\n",
       "    </tr>\n",
       "    <tr>\n",
       "      <th>5</th>\n",
       "      <td>26/08/25</td>\n",
       "      <td>1:36 PM</td>\n",
       "      <td>Arun</td>\n",
       "      <td>Send me your ETA and I’ll match it 🙈</td>\n",
       "      <td>FLIRT</td>\n",
       "    </tr>\n",
       "    <tr>\n",
       "      <th>...</th>\n",
       "      <td>...</td>\n",
       "      <td>...</td>\n",
       "      <td>...</td>\n",
       "      <td>...</td>\n",
       "      <td>...</td>\n",
       "    </tr>\n",
       "    <tr>\n",
       "      <th>132</th>\n",
       "      <td>25/08/25</td>\n",
       "      <td>12:38 PM</td>\n",
       "      <td>Geetha</td>\n",
       "      <td>Got it. Friends it is 🫶</td>\n",
       "      <td>NON_FLIRT</td>\n",
       "    </tr>\n",
       "    <tr>\n",
       "      <th>133</th>\n",
       "      <td>25/08/25</td>\n",
       "      <td>11:25 AM</td>\n",
       "      <td>Geetha</td>\n",
       "      <td>On my desk</td>\n",
       "      <td>NON_FLIRT</td>\n",
       "    </tr>\n",
       "    <tr>\n",
       "      <th>134</th>\n",
       "      <td>25/08/25</td>\n",
       "      <td>11:29 AM</td>\n",
       "      <td>Geetha</td>\n",
       "      <td>Got it. Friends it is 💼</td>\n",
       "      <td>NON_FLIRT</td>\n",
       "    </tr>\n",
       "    <tr>\n",
       "      <th>135</th>\n",
       "      <td>25/08/25</td>\n",
       "      <td>10:36 AM</td>\n",
       "      <td>Arun</td>\n",
       "      <td>Reminder: rent due today 🫶</td>\n",
       "      <td>NON_FLIRT</td>\n",
       "    </tr>\n",
       "    <tr>\n",
       "      <th>136</th>\n",
       "      <td>25/08/25</td>\n",
       "      <td>10:44 AM</td>\n",
       "      <td>Arun</td>\n",
       "      <td>Anything else needed?</td>\n",
       "      <td>NON_FLIRT</td>\n",
       "    </tr>\n",
       "  </tbody>\n",
       "</table>\n",
       "<p>136 rows × 5 columns</p>\n",
       "</div>"
      ],
      "text/plain": [
       "         Date        Time     Name  \\\n",
       "1    26/08/25   12:46 PM    Geetha   \n",
       "2    26/08/25   12:47 PM      Arun   \n",
       "3    26/08/25    1:34 PM      Arun   \n",
       "4    26/08/25    1:38 PM    Geetha   \n",
       "5    26/08/25    1:36 PM      Arun   \n",
       "..        ...         ...      ...   \n",
       "132  25/08/25   12:38 PM    Geetha   \n",
       "133  25/08/25   11:25 AM    Geetha   \n",
       "134  25/08/25   11:29 AM    Geetha   \n",
       "135  25/08/25   10:36 AM      Arun   \n",
       "136  25/08/25   10:44 AM      Arun   \n",
       "\n",
       "                                           Chat      Label  \n",
       "1     Keep talking like that and I’ll say yes 🙈      FLIRT  \n",
       "2                 Deal if you promise a laugh 😏      FLIRT  \n",
       "3            That smile in your DP… dangerous 😘      FLIRT  \n",
       "4            Flattery will get you everywhere 🙈      FLIRT  \n",
       "5          Send me your ETA and I’ll match it 🙈      FLIRT  \n",
       "..                                          ...        ...  \n",
       "132                     Got it. Friends it is 🫶  NON_FLIRT  \n",
       "133                                  On my desk  NON_FLIRT  \n",
       "134                     Got it. Friends it is 💼  NON_FLIRT  \n",
       "135                  Reminder: rent due today 🫶  NON_FLIRT  \n",
       "136                       Anything else needed?  NON_FLIRT  \n",
       "\n",
       "[136 rows x 5 columns]"
      ]
     },
     "execution_count": 43,
     "metadata": {},
     "output_type": "execute_result"
    }
   ],
   "source": [
    "df"
   ]
  },
  {
   "cell_type": "code",
   "execution_count": 45,
   "id": "252a1790-5d42-43ce-a2f0-76622087cccf",
   "metadata": {},
   "outputs": [],
   "source": [
    "y=df[\"Label\"]"
   ]
  },
  {
   "cell_type": "code",
   "execution_count": 47,
   "id": "6c3ee1a9-b71a-4280-8f0f-9c3e5fef4c58",
   "metadata": {},
   "outputs": [
    {
     "data": {
      "text/plain": [
       "1          FLIRT\n",
       "2          FLIRT\n",
       "3          FLIRT\n",
       "4          FLIRT\n",
       "5          FLIRT\n",
       "         ...    \n",
       "132    NON_FLIRT\n",
       "133    NON_FLIRT\n",
       "134    NON_FLIRT\n",
       "135    NON_FLIRT\n",
       "136    NON_FLIRT\n",
       "Name: Label, Length: 136, dtype: object"
      ]
     },
     "execution_count": 47,
     "metadata": {},
     "output_type": "execute_result"
    }
   ],
   "source": [
    "y"
   ]
  },
  {
   "cell_type": "markdown",
   "id": "34dbe95b-0a88-4591-891e-136caa25b93e",
   "metadata": {},
   "source": [
    "# Splitting Trainingset and Testset"
   ]
  },
  {
   "cell_type": "code",
   "execution_count": 49,
   "id": "61fc4675-4b69-4f0d-bbec-0669a7765c63",
   "metadata": {},
   "outputs": [],
   "source": [
    "from sklearn.model_selection import train_test_split\n",
    "X_train, X_test, y_train, y_test = train_test_split(df['Chat'], y, test_size=0.33, random_state=53)"
   ]
  },
  {
   "cell_type": "markdown",
   "id": "2ae3c8f0-0117-4888-be12-5b960f019307",
   "metadata": {},
   "source": [
    "# Feature extraction using TF-IDF vector (conversion from Text to Numbers vector)"
   ]
  },
  {
   "cell_type": "code",
   "execution_count": 51,
   "id": "f1185031-7ea7-499e-baa1-db92aac93eaa",
   "metadata": {},
   "outputs": [
    {
     "name": "stdout",
     "output_type": "stream",
     "text": [
      "[[0.         0.         0.         ... 0.         0.         0.        ]\n",
      " [0.         0.         0.         ... 0.         0.         0.        ]\n",
      " [0.         0.         0.         ... 0.         0.25897662 0.        ]\n",
      " ...\n",
      " [0.         0.         0.         ... 0.         0.20288971 0.        ]\n",
      " [0.         0.         0.         ... 0.         0.         0.        ]\n",
      " [0.         0.         0.         ... 0.         0.25404024 0.        ]]\n",
      "[[0.         0.         0.         ... 0.         0.         0.        ]\n",
      " [0.         0.         0.         ... 0.         0.         0.        ]\n",
      " [0.         0.         0.         ... 0.         0.25897662 0.        ]\n",
      " ...\n",
      " [0.         0.         0.         ... 0.         0.20288971 0.        ]\n",
      " [0.         0.         0.         ... 0.         0.         0.        ]\n",
      " [0.         0.         0.         ... 0.         0.25404024 0.        ]]\n"
     ]
    }
   ],
   "source": [
    "from sklearn.feature_extraction.text import  TfidfVectorizer\n",
    "# Create TF-IDF Vectorizer\n",
    "vectorizer = TfidfVectorizer()\n",
    "\n",
    "# Fit and transform the X_train\n",
    "tfidf_matrix_train = vectorizer.fit_transform(X_train)\n",
    "# Convert to array for easier viewing\n",
    "tfidf_array_train = tfidf_matrix_train.toarray()\n",
    "print(tfidf_array_train)\n",
    "\n",
    "\n",
    "# Fit and transform the X_test\n",
    "tfidf_matrix_test = vectorizer.transform(X_test)\n",
    "# Convert to array for easier viewing\n",
    "tfidf_array_test = tfidf_matrix_train.toarray()\n",
    "print(tfidf_array_test)"
   ]
  },
  {
   "cell_type": "markdown",
   "id": "bc6c63c2-4e2b-4409-bac7-72faffa2bc73",
   "metadata": {},
   "source": [
    "# Machine Learning Algorithm - Multinomial Naive Bayes model creation"
   ]
  },
  {
   "cell_type": "code",
   "execution_count": 53,
   "id": "e9c62931-baa8-4a38-ac85-36f7c9a4cc27",
   "metadata": {},
   "outputs": [
    {
     "name": "stdout",
     "output_type": "stream",
     "text": [
      "accuracy:   0.822\n"
     ]
    }
   ],
   "source": [
    "from sklearn.naive_bayes import MultinomialNB\n",
    "from sklearn import metrics\n",
    "clf = MultinomialNB()\n",
    "\n",
    "clf.fit(tfidf_matrix_train, y_train)\n",
    "pred = clf.predict(tfidf_matrix_test)\n",
    "score = metrics.accuracy_score(y_test, pred)\n",
    "print(\"accuracy:   %0.3f\" % score)\n",
    "\n",
    "cm = metrics.confusion_matrix(y_test, pred, labels=['FLIRT', 'NON_FLIRT'])"
   ]
  },
  {
   "cell_type": "code",
   "execution_count": 55,
   "id": "c9d84b72-d1ed-4f1a-b366-6f3760e0e3c2",
   "metadata": {},
   "outputs": [
    {
     "data": {
      "text/plain": [
       "'from sklearn.feature_extraction.text import HashingVectorizer\\nfrom sklearn.ensemble import RandomForestClassifier\\nfrom sklearn.svm import LinearSVC\\n\\n# Create Hashing Vectorizer\\n# n_features = dimensionality of the output vector\\nvectorizer = HashingVectorizer(n_features=10, alternate_sign=False)\\n\\n# Transform the documents\\nhashed_matrix_train = vectorizer.transform(X_train)\\n\\n# Convert to array for readability\\nhashed_array_train = hashed_matrix_train.toarray()\\n\\nhashed_matrix_test = vectorizer.transform(X_test)\\nhashed_array_test = hashed_matrix_test.toarray()\\n\\n# Create Random Forest Classifier\\nrf_clf = RandomForestClassifier(n_estimators=100, random_state=42)\\n\\n# Train model\\nrf_clf.fit(hashed_matrix_train, y_train)\\n\\n# Predictions\\ny_pred = rf_clf.predict(hashed_matrix_test)\\n\\nscore = metrics.accuracy_score(y_test, y_pred)\\nprint(\"accuracy:   %0.3f\" % score)\\n\\ncm = metrics.confusion_matrix(y_test, pred, labels=[\\'FLIRT\\', \\'NON_FLIRT\\'])'"
      ]
     },
     "execution_count": 55,
     "metadata": {},
     "output_type": "execute_result"
    }
   ],
   "source": [
    "'''from sklearn.feature_extraction.text import HashingVectorizer\n",
    "from sklearn.ensemble import RandomForestClassifier\n",
    "from sklearn.svm import LinearSVC\n",
    "\n",
    "# Create Hashing Vectorizer\n",
    "# n_features = dimensionality of the output vector\n",
    "vectorizer = HashingVectorizer(n_features=10, alternate_sign=False)\n",
    "\n",
    "# Transform the documents\n",
    "hashed_matrix_train = vectorizer.transform(X_train)\n",
    "\n",
    "# Convert to array for readability\n",
    "hashed_array_train = hashed_matrix_train.toarray()\n",
    "\n",
    "hashed_matrix_test = vectorizer.transform(X_test)\n",
    "hashed_array_test = hashed_matrix_test.toarray()\n",
    "\n",
    "# Create Random Forest Classifier\n",
    "rf_clf = RandomForestClassifier(n_estimators=100, random_state=42)\n",
    "\n",
    "# Train model\n",
    "rf_clf.fit(hashed_matrix_train, y_train)\n",
    "\n",
    "# Predictions\n",
    "y_pred = rf_clf.predict(hashed_matrix_test)\n",
    "\n",
    "score = metrics.accuracy_score(y_test, y_pred)\n",
    "print(\"accuracy:   %0.3f\" % score)\n",
    "\n",
    "cm = metrics.confusion_matrix(y_test, pred, labels=['FLIRT', 'NON_FLIRT'])'''"
   ]
  },
  {
   "cell_type": "code",
   "execution_count": 57,
   "id": "55e45607-d5a3-4386-bc9f-74ed8239f964",
   "metadata": {},
   "outputs": [],
   "source": [
    "from sklearn.metrics import classification_report\n",
    "report=classification_report(y_test, pred)"
   ]
  },
  {
   "cell_type": "code",
   "execution_count": 59,
   "id": "1eb421bc-e214-4c60-bafa-1d3496169f1d",
   "metadata": {},
   "outputs": [
    {
     "name": "stdout",
     "output_type": "stream",
     "text": [
      "              precision    recall  f1-score   support\n",
      "\n",
      "       FLIRT       0.72      1.00      0.84        21\n",
      "   NON_FLIRT       1.00      0.67      0.80        24\n",
      "\n",
      "    accuracy                           0.82        45\n",
      "   macro avg       0.86      0.83      0.82        45\n",
      "weighted avg       0.87      0.82      0.82        45\n",
      "\n"
     ]
    }
   ],
   "source": [
    "print(report)"
   ]
  },
  {
   "cell_type": "code",
   "execution_count": 61,
   "id": "bd0c46fc-568d-418d-b0f7-693dd4cf391e",
   "metadata": {},
   "outputs": [
    {
     "data": {
      "text/plain": [
       "' Send me your ETA and I’ll match it 🙈'"
      ]
     },
     "execution_count": 61,
     "metadata": {},
     "output_type": "execute_result"
    }
   ],
   "source": [
    "df['Chat'][5]"
   ]
  },
  {
   "cell_type": "markdown",
   "id": "8b0c8f9c-be57-41bd-a7dd-7ace2476d0b0",
   "metadata": {},
   "source": [
    "# FLIRT or NON_FLIRT Prediction of user input using created  ML classification finalized model"
   ]
  },
  {
   "cell_type": "code",
   "execution_count": 63,
   "id": "6eef95bb-9ba7-464f-b191-2387d8168aba",
   "metadata": {},
   "outputs": [
    {
     "data": {
      "text/plain": [
       "51                         It’s a date 😉\n",
       "6                     Wear comfy shoes 🙈\n",
       "40            Call me when you’re free ✨\n",
       "136                Anything else needed?\n",
       "125           Reminder: rent due today 🫶\n",
       "                     ...                \n",
       "128      Mom asked for the recipe link 🤝\n",
       "64         Deal if you promise a laugh 🥰\n",
       "118     Can you share the Wi‑Fi again? 🤝\n",
       "30                Friday rooftop plan? ✨\n",
       "26       Share location when you leave 💬\n",
       "Name: Chat, Length: 91, dtype: object"
      ]
     },
     "execution_count": 63,
     "metadata": {},
     "output_type": "execute_result"
    }
   ],
   "source": [
    "X_train"
   ]
  },
  {
   "cell_type": "code",
   "execution_count": 65,
   "id": "959720fe-f18b-4ca7-b6da-a738febe35dc",
   "metadata": {},
   "outputs": [],
   "source": [
    "# Create TF-IDF Vectorizer\n",
    "vectorizer = TfidfVectorizer()\n",
    "\n",
    "# Fit and transform the X_train\n",
    "tfidf_matrix_train = vectorizer.fit_transform(X_train)"
   ]
  },
  {
   "cell_type": "code",
   "execution_count": 67,
   "id": "08334e04-2600-47d7-b5ff-9b04926a8da8",
   "metadata": {},
   "outputs": [
    {
     "data": {
      "text/plain": [
       "array(['FLIRT'], dtype='<U9')"
      ]
     },
     "execution_count": 67,
     "metadata": {},
     "output_type": "execute_result"
    }
   ],
   "source": [
    "clf.predict(tfidf_matrix_train[[5]])"
   ]
  },
  {
   "cell_type": "markdown",
   "id": "33cdcb3b-a6f0-41a7-a543-90d9e5b0db8d",
   "metadata": {},
   "source": [
    "# Flirt Encounters"
   ]
  },
  {
   "cell_type": "code",
   "execution_count": 147,
   "id": "22669b63-405c-4066-bfc4-827bcdad9bb2",
   "metadata": {},
   "outputs": [
    {
     "name": "stdout",
     "output_type": "stream",
     "text": [
      "\u001b[1mMore Talkative:  Arun\u001b[0m\n",
      "\u001b[1mLess talkative:  Geetha\u001b[0m\n",
      "\u001b[1mFlirt % By:\n",
      "  Name\n",
      "Arun      45.57\n",
      "Geetha    54.39\n",
      "dtype: float64\u001b[0m\n"
     ]
    },
    {
     "name": "stderr",
     "output_type": "stream",
     "text": [
      "C:\\Users\\win\\AppData\\Local\\Temp\\ipykernel_4328\\1491542204.py:12: SettingWithCopyWarning: \n",
      "A value is trying to be set on a copy of a slice from a DataFrame.\n",
      "Try using .loc[row_indexer,col_indexer] = value instead\n",
      "\n",
      "See the caveats in the documentation: https://pandas.pydata.org/pandas-docs/stable/user_guide/indexing.html#returning-a-view-versus-a-copy\n",
      "  df['flirt_keywords']= df[\"Label\"].apply(lambda x: \"Yes\" if x == \"FLIRT\" else \"No\")\n",
      "C:\\Users\\win\\AppData\\Local\\Temp\\ipykernel_4328\\1491542204.py:14: SettingWithCopyWarning: \n",
      "A value is trying to be set on a copy of a slice from a DataFrame.\n",
      "Try using .loc[row_indexer,col_indexer] = value instead\n",
      "\n",
      "See the caveats in the documentation: https://pandas.pydata.org/pandas-docs/stable/user_guide/indexing.html#returning-a-view-versus-a-copy\n",
      "  df['is_flirt'] = df['flirt_keywords'].str.contains(\"Yes\", case=False, na=False)\n"
     ]
    }
   ],
   "source": [
    "# a) Talkative (message count per person)\n",
    "def talkative(df):\n",
    "    return df['Name'].value_counts().idxmax()\n",
    "\n",
    "# b) Less talkative (minimum messages)\n",
    "def less_talkative(df):\n",
    "    return df['Name'].value_counts().idxmin()\n",
    "\n",
    "# c) Flirt percentage by Arun and Geetha\n",
    "def flirt_percentage(df, flirt_keywords=None):\n",
    "    if flirt_keywords is None:\n",
    "        df['flirt_keywords']= df[\"Label\"].apply(lambda x: \"Yes\" if x == \"FLIRT\" else \"No\")\n",
    "    \n",
    "    df['is_flirt'] = df['flirt_keywords'].str.contains(\"Yes\", case=False, na=False)\n",
    "    flirt_counts = df[df['is_flirt']].groupby('Name').size()\n",
    "    total_counts = df.groupby('Name').size()\n",
    "    return (flirt_counts / total_counts * 100).fillna(0).round(2)\n",
    "\n",
    "print(\"\\033[1m\" + f\"More Talkative: {talkative(df)}\" + \"\\033[0m\")\n",
    "print(\"\\033[1m\" + f\"Less talkative: {less_talkative(df)}\" + \"\\033[0m\")\n",
    "print(\"\\033[1m\" + f\"Flirt % By:\\n  {flirt_percentage(df)}\" + \"\\033[0m\")"
   ]
  },
  {
   "cell_type": "markdown",
   "id": "b4ceac32-f86d-4d96-a609-69b58142f9e8",
   "metadata": {},
   "source": [
    "# Time Encounters"
   ]
  },
  {
   "cell_type": "code",
   "execution_count": 72,
   "id": "561df8f7-8b61-4b30-b41a-45f85a052094",
   "metadata": {},
   "outputs": [
    {
     "data": {
      "text/html": [
       "<div>\n",
       "<style scoped>\n",
       "    .dataframe tbody tr th:only-of-type {\n",
       "        vertical-align: middle;\n",
       "    }\n",
       "\n",
       "    .dataframe tbody tr th {\n",
       "        vertical-align: top;\n",
       "    }\n",
       "\n",
       "    .dataframe thead th {\n",
       "        text-align: right;\n",
       "    }\n",
       "</style>\n",
       "<table border=\"1\" class=\"dataframe\">\n",
       "  <thead>\n",
       "    <tr style=\"text-align: right;\">\n",
       "      <th></th>\n",
       "      <th>Date</th>\n",
       "      <th>Time</th>\n",
       "      <th>Name</th>\n",
       "      <th>Chat</th>\n",
       "      <th>Label</th>\n",
       "      <th>flirt_keywords</th>\n",
       "      <th>is_flirt</th>\n",
       "    </tr>\n",
       "  </thead>\n",
       "  <tbody>\n",
       "    <tr>\n",
       "      <th>1</th>\n",
       "      <td>26/08/25</td>\n",
       "      <td>12:46 PM</td>\n",
       "      <td>Geetha</td>\n",
       "      <td>Keep talking like that and I’ll say yes 🙈</td>\n",
       "      <td>FLIRT</td>\n",
       "      <td>Yes</td>\n",
       "      <td>True</td>\n",
       "    </tr>\n",
       "    <tr>\n",
       "      <th>2</th>\n",
       "      <td>26/08/25</td>\n",
       "      <td>12:47 PM</td>\n",
       "      <td>Arun</td>\n",
       "      <td>Deal if you promise a laugh 😏</td>\n",
       "      <td>FLIRT</td>\n",
       "      <td>Yes</td>\n",
       "      <td>True</td>\n",
       "    </tr>\n",
       "    <tr>\n",
       "      <th>3</th>\n",
       "      <td>26/08/25</td>\n",
       "      <td>1:34 PM</td>\n",
       "      <td>Arun</td>\n",
       "      <td>That smile in your DP… dangerous 😘</td>\n",
       "      <td>FLIRT</td>\n",
       "      <td>Yes</td>\n",
       "      <td>True</td>\n",
       "    </tr>\n",
       "    <tr>\n",
       "      <th>4</th>\n",
       "      <td>26/08/25</td>\n",
       "      <td>1:38 PM</td>\n",
       "      <td>Geetha</td>\n",
       "      <td>Flattery will get you everywhere 🙈</td>\n",
       "      <td>FLIRT</td>\n",
       "      <td>Yes</td>\n",
       "      <td>True</td>\n",
       "    </tr>\n",
       "    <tr>\n",
       "      <th>5</th>\n",
       "      <td>26/08/25</td>\n",
       "      <td>1:36 PM</td>\n",
       "      <td>Arun</td>\n",
       "      <td>Send me your ETA and I’ll match it 🙈</td>\n",
       "      <td>FLIRT</td>\n",
       "      <td>Yes</td>\n",
       "      <td>True</td>\n",
       "    </tr>\n",
       "    <tr>\n",
       "      <th>...</th>\n",
       "      <td>...</td>\n",
       "      <td>...</td>\n",
       "      <td>...</td>\n",
       "      <td>...</td>\n",
       "      <td>...</td>\n",
       "      <td>...</td>\n",
       "      <td>...</td>\n",
       "    </tr>\n",
       "    <tr>\n",
       "      <th>132</th>\n",
       "      <td>25/08/25</td>\n",
       "      <td>12:38 PM</td>\n",
       "      <td>Geetha</td>\n",
       "      <td>Got it. Friends it is 🫶</td>\n",
       "      <td>NON_FLIRT</td>\n",
       "      <td>No</td>\n",
       "      <td>False</td>\n",
       "    </tr>\n",
       "    <tr>\n",
       "      <th>133</th>\n",
       "      <td>25/08/25</td>\n",
       "      <td>11:25 AM</td>\n",
       "      <td>Geetha</td>\n",
       "      <td>On my desk</td>\n",
       "      <td>NON_FLIRT</td>\n",
       "      <td>No</td>\n",
       "      <td>False</td>\n",
       "    </tr>\n",
       "    <tr>\n",
       "      <th>134</th>\n",
       "      <td>25/08/25</td>\n",
       "      <td>11:29 AM</td>\n",
       "      <td>Geetha</td>\n",
       "      <td>Got it. Friends it is 💼</td>\n",
       "      <td>NON_FLIRT</td>\n",
       "      <td>No</td>\n",
       "      <td>False</td>\n",
       "    </tr>\n",
       "    <tr>\n",
       "      <th>135</th>\n",
       "      <td>25/08/25</td>\n",
       "      <td>10:36 AM</td>\n",
       "      <td>Arun</td>\n",
       "      <td>Reminder: rent due today 🫶</td>\n",
       "      <td>NON_FLIRT</td>\n",
       "      <td>No</td>\n",
       "      <td>False</td>\n",
       "    </tr>\n",
       "    <tr>\n",
       "      <th>136</th>\n",
       "      <td>25/08/25</td>\n",
       "      <td>10:44 AM</td>\n",
       "      <td>Arun</td>\n",
       "      <td>Anything else needed?</td>\n",
       "      <td>NON_FLIRT</td>\n",
       "      <td>No</td>\n",
       "      <td>False</td>\n",
       "    </tr>\n",
       "  </tbody>\n",
       "</table>\n",
       "<p>136 rows × 7 columns</p>\n",
       "</div>"
      ],
      "text/plain": [
       "         Date        Time     Name  \\\n",
       "1    26/08/25   12:46 PM    Geetha   \n",
       "2    26/08/25   12:47 PM      Arun   \n",
       "3    26/08/25    1:34 PM      Arun   \n",
       "4    26/08/25    1:38 PM    Geetha   \n",
       "5    26/08/25    1:36 PM      Arun   \n",
       "..        ...         ...      ...   \n",
       "132  25/08/25   12:38 PM    Geetha   \n",
       "133  25/08/25   11:25 AM    Geetha   \n",
       "134  25/08/25   11:29 AM    Geetha   \n",
       "135  25/08/25   10:36 AM      Arun   \n",
       "136  25/08/25   10:44 AM      Arun   \n",
       "\n",
       "                                           Chat      Label flirt_keywords  \\\n",
       "1     Keep talking like that and I’ll say yes 🙈      FLIRT            Yes   \n",
       "2                 Deal if you promise a laugh 😏      FLIRT            Yes   \n",
       "3            That smile in your DP… dangerous 😘      FLIRT            Yes   \n",
       "4            Flattery will get you everywhere 🙈      FLIRT            Yes   \n",
       "5          Send me your ETA and I’ll match it 🙈      FLIRT            Yes   \n",
       "..                                          ...        ...            ...   \n",
       "132                     Got it. Friends it is 🫶  NON_FLIRT             No   \n",
       "133                                  On my desk  NON_FLIRT             No   \n",
       "134                     Got it. Friends it is 💼  NON_FLIRT             No   \n",
       "135                  Reminder: rent due today 🫶  NON_FLIRT             No   \n",
       "136                       Anything else needed?  NON_FLIRT             No   \n",
       "\n",
       "     is_flirt  \n",
       "1        True  \n",
       "2        True  \n",
       "3        True  \n",
       "4        True  \n",
       "5        True  \n",
       "..        ...  \n",
       "132     False  \n",
       "133     False  \n",
       "134     False  \n",
       "135     False  \n",
       "136     False  \n",
       "\n",
       "[136 rows x 7 columns]"
      ]
     },
     "execution_count": 72,
     "metadata": {},
     "output_type": "execute_result"
    }
   ],
   "source": [
    "df"
   ]
  },
  {
   "cell_type": "code",
   "execution_count": 74,
   "id": "89484291-2ab7-46f7-98b2-7e6887670a65",
   "metadata": {},
   "outputs": [
    {
     "data": {
      "text/plain": [
       "1       12:46 PM \n",
       "2       12:47 PM \n",
       "3        1:34 PM \n",
       "4        1:38 PM \n",
       "5        1:36 PM \n",
       "          ...    \n",
       "132     12:38 PM \n",
       "133     11:25 AM \n",
       "134     11:29 AM \n",
       "135     10:36 AM \n",
       "136     10:44 AM \n",
       "Name: Time, Length: 136, dtype: object"
      ]
     },
     "execution_count": 74,
     "metadata": {},
     "output_type": "execute_result"
    }
   ],
   "source": [
    "df[\"Time\"]"
   ]
  },
  {
   "cell_type": "markdown",
   "id": "26499e39-2664-4012-a4c8-4d016e9aee57",
   "metadata": {},
   "source": [
    "# column 'Time' strings have extra spaces like \" 12:46 PM \" instead of \"12:46 PM\"."
   ]
  },
  {
   "cell_type": "code",
   "execution_count": 78,
   "id": "590f125f-bf5d-4428-a3a0-6437fd742fbf",
   "metadata": {},
   "outputs": [
    {
     "name": "stderr",
     "output_type": "stream",
     "text": [
      "C:\\Users\\win\\AppData\\Local\\Temp\\ipykernel_4328\\1752315650.py:1: SettingWithCopyWarning: \n",
      "A value is trying to be set on a copy of a slice from a DataFrame.\n",
      "Try using .loc[row_indexer,col_indexer] = value instead\n",
      "\n",
      "See the caveats in the documentation: https://pandas.pydata.org/pandas-docs/stable/user_guide/indexing.html#returning-a-view-versus-a-copy\n",
      "  df[\"Time\"] = pd.to_datetime(df[\"Time\"].str.strip(), format=\"%I:%M %p\").dt.time\n"
     ]
    }
   ],
   "source": [
    "df[\"Time\"] = pd.to_datetime(df[\"Time\"].str.strip(), format=\"%I:%M %p\").dt.time"
   ]
  },
  {
   "cell_type": "code",
   "execution_count": 80,
   "id": "dc9b8bea-87a5-480d-b97e-258d63395ea1",
   "metadata": {},
   "outputs": [
    {
     "data": {
      "text/plain": [
       "1      12:46:00\n",
       "2      12:47:00\n",
       "3      13:34:00\n",
       "4      13:38:00\n",
       "5      13:36:00\n",
       "         ...   \n",
       "132    12:38:00\n",
       "133    11:25:00\n",
       "134    11:29:00\n",
       "135    10:36:00\n",
       "136    10:44:00\n",
       "Name: Time, Length: 136, dtype: object"
      ]
     },
     "execution_count": 80,
     "metadata": {},
     "output_type": "execute_result"
    }
   ],
   "source": [
    "df[\"Time\"]"
   ]
  },
  {
   "cell_type": "code",
   "execution_count": 89,
   "id": "539a53ae-76c5-4e6e-b3e8-07742cd5f37c",
   "metadata": {},
   "outputs": [
    {
     "data": {
      "text/html": [
       "<div>\n",
       "<style scoped>\n",
       "    .dataframe tbody tr th:only-of-type {\n",
       "        vertical-align: middle;\n",
       "    }\n",
       "\n",
       "    .dataframe tbody tr th {\n",
       "        vertical-align: top;\n",
       "    }\n",
       "\n",
       "    .dataframe thead th {\n",
       "        text-align: right;\n",
       "    }\n",
       "</style>\n",
       "<table border=\"1\" class=\"dataframe\">\n",
       "  <thead>\n",
       "    <tr style=\"text-align: right;\">\n",
       "      <th></th>\n",
       "      <th>Date</th>\n",
       "      <th>Time</th>\n",
       "      <th>Name</th>\n",
       "      <th>Chat</th>\n",
       "      <th>Label</th>\n",
       "      <th>flirt_keywords</th>\n",
       "      <th>is_flirt</th>\n",
       "    </tr>\n",
       "  </thead>\n",
       "  <tbody>\n",
       "    <tr>\n",
       "      <th>1</th>\n",
       "      <td>26/08/25</td>\n",
       "      <td>12:46:00</td>\n",
       "      <td>Geetha</td>\n",
       "      <td>Keep talking like that and I’ll say yes 🙈</td>\n",
       "      <td>FLIRT</td>\n",
       "      <td>Yes</td>\n",
       "      <td>True</td>\n",
       "    </tr>\n",
       "    <tr>\n",
       "      <th>2</th>\n",
       "      <td>26/08/25</td>\n",
       "      <td>12:47:00</td>\n",
       "      <td>Arun</td>\n",
       "      <td>Deal if you promise a laugh 😏</td>\n",
       "      <td>FLIRT</td>\n",
       "      <td>Yes</td>\n",
       "      <td>True</td>\n",
       "    </tr>\n",
       "    <tr>\n",
       "      <th>3</th>\n",
       "      <td>26/08/25</td>\n",
       "      <td>13:34:00</td>\n",
       "      <td>Arun</td>\n",
       "      <td>That smile in your DP… dangerous 😘</td>\n",
       "      <td>FLIRT</td>\n",
       "      <td>Yes</td>\n",
       "      <td>True</td>\n",
       "    </tr>\n",
       "    <tr>\n",
       "      <th>4</th>\n",
       "      <td>26/08/25</td>\n",
       "      <td>13:38:00</td>\n",
       "      <td>Geetha</td>\n",
       "      <td>Flattery will get you everywhere 🙈</td>\n",
       "      <td>FLIRT</td>\n",
       "      <td>Yes</td>\n",
       "      <td>True</td>\n",
       "    </tr>\n",
       "    <tr>\n",
       "      <th>5</th>\n",
       "      <td>26/08/25</td>\n",
       "      <td>13:36:00</td>\n",
       "      <td>Arun</td>\n",
       "      <td>Send me your ETA and I’ll match it 🙈</td>\n",
       "      <td>FLIRT</td>\n",
       "      <td>Yes</td>\n",
       "      <td>True</td>\n",
       "    </tr>\n",
       "    <tr>\n",
       "      <th>...</th>\n",
       "      <td>...</td>\n",
       "      <td>...</td>\n",
       "      <td>...</td>\n",
       "      <td>...</td>\n",
       "      <td>...</td>\n",
       "      <td>...</td>\n",
       "      <td>...</td>\n",
       "    </tr>\n",
       "    <tr>\n",
       "      <th>132</th>\n",
       "      <td>25/08/25</td>\n",
       "      <td>12:38:00</td>\n",
       "      <td>Geetha</td>\n",
       "      <td>Got it. Friends it is 🫶</td>\n",
       "      <td>NON_FLIRT</td>\n",
       "      <td>No</td>\n",
       "      <td>False</td>\n",
       "    </tr>\n",
       "    <tr>\n",
       "      <th>133</th>\n",
       "      <td>25/08/25</td>\n",
       "      <td>11:25:00</td>\n",
       "      <td>Geetha</td>\n",
       "      <td>On my desk</td>\n",
       "      <td>NON_FLIRT</td>\n",
       "      <td>No</td>\n",
       "      <td>False</td>\n",
       "    </tr>\n",
       "    <tr>\n",
       "      <th>134</th>\n",
       "      <td>25/08/25</td>\n",
       "      <td>11:29:00</td>\n",
       "      <td>Geetha</td>\n",
       "      <td>Got it. Friends it is 💼</td>\n",
       "      <td>NON_FLIRT</td>\n",
       "      <td>No</td>\n",
       "      <td>False</td>\n",
       "    </tr>\n",
       "    <tr>\n",
       "      <th>135</th>\n",
       "      <td>25/08/25</td>\n",
       "      <td>10:36:00</td>\n",
       "      <td>Arun</td>\n",
       "      <td>Reminder: rent due today 🫶</td>\n",
       "      <td>NON_FLIRT</td>\n",
       "      <td>No</td>\n",
       "      <td>False</td>\n",
       "    </tr>\n",
       "    <tr>\n",
       "      <th>136</th>\n",
       "      <td>25/08/25</td>\n",
       "      <td>10:44:00</td>\n",
       "      <td>Arun</td>\n",
       "      <td>Anything else needed?</td>\n",
       "      <td>NON_FLIRT</td>\n",
       "      <td>No</td>\n",
       "      <td>False</td>\n",
       "    </tr>\n",
       "  </tbody>\n",
       "</table>\n",
       "<p>136 rows × 7 columns</p>\n",
       "</div>"
      ],
      "text/plain": [
       "         Date      Time     Name                                        Chat  \\\n",
       "1    26/08/25  12:46:00   Geetha   Keep talking like that and I’ll say yes 🙈   \n",
       "2    26/08/25  12:47:00     Arun               Deal if you promise a laugh 😏   \n",
       "3    26/08/25  13:34:00     Arun          That smile in your DP… dangerous 😘   \n",
       "4    26/08/25  13:38:00   Geetha          Flattery will get you everywhere 🙈   \n",
       "5    26/08/25  13:36:00     Arun        Send me your ETA and I’ll match it 🙈   \n",
       "..        ...       ...      ...                                         ...   \n",
       "132  25/08/25  12:38:00   Geetha                     Got it. Friends it is 🫶   \n",
       "133  25/08/25  11:25:00   Geetha                                  On my desk   \n",
       "134  25/08/25  11:29:00   Geetha                     Got it. Friends it is 💼   \n",
       "135  25/08/25  10:36:00     Arun                  Reminder: rent due today 🫶   \n",
       "136  25/08/25  10:44:00     Arun                       Anything else needed?   \n",
       "\n",
       "         Label flirt_keywords  is_flirt  \n",
       "1        FLIRT            Yes      True  \n",
       "2        FLIRT            Yes      True  \n",
       "3        FLIRT            Yes      True  \n",
       "4        FLIRT            Yes      True  \n",
       "5        FLIRT            Yes      True  \n",
       "..         ...            ...       ...  \n",
       "132  NON_FLIRT             No     False  \n",
       "133  NON_FLIRT             No     False  \n",
       "134  NON_FLIRT             No     False  \n",
       "135  NON_FLIRT             No     False  \n",
       "136  NON_FLIRT             No     False  \n",
       "\n",
       "[136 rows x 7 columns]"
      ]
     },
     "execution_count": 89,
     "metadata": {},
     "output_type": "execute_result"
    }
   ],
   "source": [
    "'''# Function 3: Most active hour\n",
    "def most_active_hour(df):\n",
    "    return df['Time'].dt.hour.value_counts().idxmax(), df['Time'].dt.hour.value_counts().max()\n",
    "print(\"Most active hour:\", most_active_hour(df))'''\n",
    "\n",
    "df"
   ]
  },
  {
   "cell_type": "code",
   "execution_count": 105,
   "id": "8448cb37-3999-4192-9529-6adc46947b44",
   "metadata": {},
   "outputs": [
    {
     "name": "stdout",
     "output_type": "stream",
     "text": [
      "          Date      Time     Name                                        Chat  \\\n",
      "1   2025-08-26  12:46:00   Geetha   Keep talking like that and I’ll say yes 🙈   \n",
      "2   2025-08-26  12:47:00     Arun               Deal if you promise a laugh 😏   \n",
      "3   2025-08-26  13:34:00     Arun          That smile in your DP… dangerous 😘   \n",
      "4   2025-08-26  13:38:00   Geetha          Flattery will get you everywhere 🙈   \n",
      "5   2025-08-26  13:36:00     Arun        Send me your ETA and I’ll match it 🙈   \n",
      "..         ...       ...      ...                                         ...   \n",
      "132 2025-08-25  12:38:00   Geetha                     Got it. Friends it is 🫶   \n",
      "133 2025-08-25  11:25:00   Geetha                                  On my desk   \n",
      "134 2025-08-25  11:29:00   Geetha                     Got it. Friends it is 💼   \n",
      "135 2025-08-25  10:36:00     Arun                  Reminder: rent due today 🫶   \n",
      "136 2025-08-25  10:44:00     Arun                       Anything else needed?   \n",
      "\n",
      "         Label flirt_keywords  is_flirt            DateTime  \n",
      "1        FLIRT            Yes      True 2025-08-26 12:46:00  \n",
      "2        FLIRT            Yes      True 2025-08-26 12:47:00  \n",
      "3        FLIRT            Yes      True 2025-08-26 13:34:00  \n",
      "4        FLIRT            Yes      True 2025-08-26 13:38:00  \n",
      "5        FLIRT            Yes      True 2025-08-26 13:36:00  \n",
      "..         ...            ...       ...                 ...  \n",
      "132  NON_FLIRT             No     False 2025-08-25 12:38:00  \n",
      "133  NON_FLIRT             No     False 2025-08-25 11:25:00  \n",
      "134  NON_FLIRT             No     False 2025-08-25 11:29:00  \n",
      "135  NON_FLIRT             No     False 2025-08-25 10:36:00  \n",
      "136  NON_FLIRT             No     False 2025-08-25 10:44:00  \n",
      "\n",
      "[136 rows x 8 columns]\n",
      "Date              datetime64[ns]\n",
      "Time                      object\n",
      "Name                      object\n",
      "Chat                      object\n",
      "Label                     object\n",
      "flirt_keywords            object\n",
      "is_flirt                    bool\n",
      "DateTime          datetime64[ns]\n",
      "dtype: object\n"
     ]
    },
    {
     "name": "stderr",
     "output_type": "stream",
     "text": [
      "C:\\Users\\win\\AppData\\Local\\Temp\\ipykernel_4328\\443233905.py:3: SettingWithCopyWarning: \n",
      "A value is trying to be set on a copy of a slice from a DataFrame.\n",
      "Try using .loc[row_indexer,col_indexer] = value instead\n",
      "\n",
      "See the caveats in the documentation: https://pandas.pydata.org/pandas-docs/stable/user_guide/indexing.html#returning-a-view-versus-a-copy\n",
      "  df['DateTime'] = pd.to_datetime(df['Date'].dt.date.astype(str) + ' ' + df['Time'].astype(str), format=\"%Y-%m-%d %H:%M:%S\")\n"
     ]
    }
   ],
   "source": [
    "import pandas as pd\n",
    "# Convert Time to string before combining\n",
    "df['DateTime'] = pd.to_datetime(df['Date'].dt.date.astype(str) + ' ' + df['Time'].astype(str), format=\"%Y-%m-%d %H:%M:%S\")\n",
    "\n",
    "print(df)\n",
    "print(df.dtypes)"
   ]
  },
  {
   "cell_type": "code",
   "execution_count": 107,
   "id": "9010fca5-2eb5-4c22-9d71-4976c1dbac4e",
   "metadata": {},
   "outputs": [
    {
     "data": {
      "text/html": [
       "<div>\n",
       "<style scoped>\n",
       "    .dataframe tbody tr th:only-of-type {\n",
       "        vertical-align: middle;\n",
       "    }\n",
       "\n",
       "    .dataframe tbody tr th {\n",
       "        vertical-align: top;\n",
       "    }\n",
       "\n",
       "    .dataframe thead th {\n",
       "        text-align: right;\n",
       "    }\n",
       "</style>\n",
       "<table border=\"1\" class=\"dataframe\">\n",
       "  <thead>\n",
       "    <tr style=\"text-align: right;\">\n",
       "      <th></th>\n",
       "      <th>Date</th>\n",
       "      <th>Time</th>\n",
       "      <th>Name</th>\n",
       "      <th>Chat</th>\n",
       "      <th>Label</th>\n",
       "      <th>flirt_keywords</th>\n",
       "      <th>is_flirt</th>\n",
       "      <th>DateTime</th>\n",
       "    </tr>\n",
       "  </thead>\n",
       "  <tbody>\n",
       "    <tr>\n",
       "      <th>1</th>\n",
       "      <td>2025-08-26</td>\n",
       "      <td>12:46:00</td>\n",
       "      <td>Geetha</td>\n",
       "      <td>Keep talking like that and I’ll say yes 🙈</td>\n",
       "      <td>FLIRT</td>\n",
       "      <td>Yes</td>\n",
       "      <td>True</td>\n",
       "      <td>2025-08-26 12:46:00</td>\n",
       "    </tr>\n",
       "    <tr>\n",
       "      <th>2</th>\n",
       "      <td>2025-08-26</td>\n",
       "      <td>12:47:00</td>\n",
       "      <td>Arun</td>\n",
       "      <td>Deal if you promise a laugh 😏</td>\n",
       "      <td>FLIRT</td>\n",
       "      <td>Yes</td>\n",
       "      <td>True</td>\n",
       "      <td>2025-08-26 12:47:00</td>\n",
       "    </tr>\n",
       "    <tr>\n",
       "      <th>3</th>\n",
       "      <td>2025-08-26</td>\n",
       "      <td>13:34:00</td>\n",
       "      <td>Arun</td>\n",
       "      <td>That smile in your DP… dangerous 😘</td>\n",
       "      <td>FLIRT</td>\n",
       "      <td>Yes</td>\n",
       "      <td>True</td>\n",
       "      <td>2025-08-26 13:34:00</td>\n",
       "    </tr>\n",
       "    <tr>\n",
       "      <th>4</th>\n",
       "      <td>2025-08-26</td>\n",
       "      <td>13:38:00</td>\n",
       "      <td>Geetha</td>\n",
       "      <td>Flattery will get you everywhere 🙈</td>\n",
       "      <td>FLIRT</td>\n",
       "      <td>Yes</td>\n",
       "      <td>True</td>\n",
       "      <td>2025-08-26 13:38:00</td>\n",
       "    </tr>\n",
       "    <tr>\n",
       "      <th>5</th>\n",
       "      <td>2025-08-26</td>\n",
       "      <td>13:36:00</td>\n",
       "      <td>Arun</td>\n",
       "      <td>Send me your ETA and I’ll match it 🙈</td>\n",
       "      <td>FLIRT</td>\n",
       "      <td>Yes</td>\n",
       "      <td>True</td>\n",
       "      <td>2025-08-26 13:36:00</td>\n",
       "    </tr>\n",
       "    <tr>\n",
       "      <th>...</th>\n",
       "      <td>...</td>\n",
       "      <td>...</td>\n",
       "      <td>...</td>\n",
       "      <td>...</td>\n",
       "      <td>...</td>\n",
       "      <td>...</td>\n",
       "      <td>...</td>\n",
       "      <td>...</td>\n",
       "    </tr>\n",
       "    <tr>\n",
       "      <th>132</th>\n",
       "      <td>2025-08-25</td>\n",
       "      <td>12:38:00</td>\n",
       "      <td>Geetha</td>\n",
       "      <td>Got it. Friends it is 🫶</td>\n",
       "      <td>NON_FLIRT</td>\n",
       "      <td>No</td>\n",
       "      <td>False</td>\n",
       "      <td>2025-08-25 12:38:00</td>\n",
       "    </tr>\n",
       "    <tr>\n",
       "      <th>133</th>\n",
       "      <td>2025-08-25</td>\n",
       "      <td>11:25:00</td>\n",
       "      <td>Geetha</td>\n",
       "      <td>On my desk</td>\n",
       "      <td>NON_FLIRT</td>\n",
       "      <td>No</td>\n",
       "      <td>False</td>\n",
       "      <td>2025-08-25 11:25:00</td>\n",
       "    </tr>\n",
       "    <tr>\n",
       "      <th>134</th>\n",
       "      <td>2025-08-25</td>\n",
       "      <td>11:29:00</td>\n",
       "      <td>Geetha</td>\n",
       "      <td>Got it. Friends it is 💼</td>\n",
       "      <td>NON_FLIRT</td>\n",
       "      <td>No</td>\n",
       "      <td>False</td>\n",
       "      <td>2025-08-25 11:29:00</td>\n",
       "    </tr>\n",
       "    <tr>\n",
       "      <th>135</th>\n",
       "      <td>2025-08-25</td>\n",
       "      <td>10:36:00</td>\n",
       "      <td>Arun</td>\n",
       "      <td>Reminder: rent due today 🫶</td>\n",
       "      <td>NON_FLIRT</td>\n",
       "      <td>No</td>\n",
       "      <td>False</td>\n",
       "      <td>2025-08-25 10:36:00</td>\n",
       "    </tr>\n",
       "    <tr>\n",
       "      <th>136</th>\n",
       "      <td>2025-08-25</td>\n",
       "      <td>10:44:00</td>\n",
       "      <td>Arun</td>\n",
       "      <td>Anything else needed?</td>\n",
       "      <td>NON_FLIRT</td>\n",
       "      <td>No</td>\n",
       "      <td>False</td>\n",
       "      <td>2025-08-25 10:44:00</td>\n",
       "    </tr>\n",
       "  </tbody>\n",
       "</table>\n",
       "<p>136 rows × 8 columns</p>\n",
       "</div>"
      ],
      "text/plain": [
       "          Date      Time     Name                                        Chat  \\\n",
       "1   2025-08-26  12:46:00   Geetha   Keep talking like that and I’ll say yes 🙈   \n",
       "2   2025-08-26  12:47:00     Arun               Deal if you promise a laugh 😏   \n",
       "3   2025-08-26  13:34:00     Arun          That smile in your DP… dangerous 😘   \n",
       "4   2025-08-26  13:38:00   Geetha          Flattery will get you everywhere 🙈   \n",
       "5   2025-08-26  13:36:00     Arun        Send me your ETA and I’ll match it 🙈   \n",
       "..         ...       ...      ...                                         ...   \n",
       "132 2025-08-25  12:38:00   Geetha                     Got it. Friends it is 🫶   \n",
       "133 2025-08-25  11:25:00   Geetha                                  On my desk   \n",
       "134 2025-08-25  11:29:00   Geetha                     Got it. Friends it is 💼   \n",
       "135 2025-08-25  10:36:00     Arun                  Reminder: rent due today 🫶   \n",
       "136 2025-08-25  10:44:00     Arun                       Anything else needed?   \n",
       "\n",
       "         Label flirt_keywords  is_flirt            DateTime  \n",
       "1        FLIRT            Yes      True 2025-08-26 12:46:00  \n",
       "2        FLIRT            Yes      True 2025-08-26 12:47:00  \n",
       "3        FLIRT            Yes      True 2025-08-26 13:34:00  \n",
       "4        FLIRT            Yes      True 2025-08-26 13:38:00  \n",
       "5        FLIRT            Yes      True 2025-08-26 13:36:00  \n",
       "..         ...            ...       ...                 ...  \n",
       "132  NON_FLIRT             No     False 2025-08-25 12:38:00  \n",
       "133  NON_FLIRT             No     False 2025-08-25 11:25:00  \n",
       "134  NON_FLIRT             No     False 2025-08-25 11:29:00  \n",
       "135  NON_FLIRT             No     False 2025-08-25 10:36:00  \n",
       "136  NON_FLIRT             No     False 2025-08-25 10:44:00  \n",
       "\n",
       "[136 rows x 8 columns]"
      ]
     },
     "execution_count": 107,
     "metadata": {},
     "output_type": "execute_result"
    }
   ],
   "source": [
    "df"
   ]
  },
  {
   "cell_type": "code",
   "execution_count": 151,
   "id": "1f28cdfc-ff67-447f-9793-61422478b0d4",
   "metadata": {},
   "outputs": [
    {
     "name": "stdout",
     "output_type": "stream",
     "text": [
      "\u001b[1mMost active date: (Timestamp('2025-08-26 00:00:00'), 82)\u001b[0m\n",
      "\u001b[1mMost active day:  ('Tuesday', 82)\u001b[0m\n",
      "\u001b[1mMost active hour: (10, 29)\u001b[0m\n",
      "\u001b[1mAverage messages per day: 68.0\u001b[0m\n"
     ]
    }
   ],
   "source": [
    "# Function 1: Most active date\n",
    "def most_active_date(df):\n",
    "    return df['Date'].value_counts().idxmax(), df['Date'].value_counts().max()\n",
    "\n",
    "# Function 2: Most active day of week\n",
    "def most_active_day(df):\n",
    "    return df['DateTime'].dt.day_name().value_counts().idxmax(), df['DateTime'].dt.day_name().value_counts().max()\n",
    "\n",
    "# Function 3: Most active hour\n",
    "def most_active_hour(df):\n",
    "    return df['DateTime'].dt.hour.value_counts().idxmax(), df['DateTime'].dt.hour.value_counts().max()\n",
    "\n",
    "# Function 4: Average number of messages per day\n",
    "def avg_messages_per_day(df):\n",
    "    messages_per_day = df.groupby(df['Date']).size()\n",
    "    return messages_per_day.mean()\n",
    "\n",
    "# Usage\n",
    "print(\"\\033[1m\" + f\"Most active date: {most_active_date(df)}\" + \"\\033[0m\")\n",
    "print(\"\\033[1m\" + f\"Most active day:  {most_active_day(df)}\" + \"\\033[0m\")\n",
    "print(\"\\033[1m\" + f\"Most active hour: {most_active_hour(df)}\" + \"\\033[0m\")\n",
    "print(\"\\033[1m\" + f\"Average messages per day: {avg_messages_per_day(df)}\" + \"\\033[0m\")"
   ]
  },
  {
   "cell_type": "markdown",
   "id": "3b43fceb-ef76-4cb4-a636-03412dbf0caf",
   "metadata": {},
   "source": [
    "# Media Encounters"
   ]
  },
  {
   "cell_type": "code",
   "execution_count": 155,
   "id": "300e5dfb-ef33-45f0-8fbe-43691089b8c9",
   "metadata": {},
   "outputs": [
    {
     "name": "stdout",
     "output_type": "stream",
     "text": [
      "\u001b[1mMost active hour: (10, 29)\u001b[0m\n",
      "\u001b[1mMedia count: 0\u001b[0m\n",
      "\u001b[1mDeleted messages:  0\u001b[0m\n",
      "\u001b[1mMissed voice calls: 0\u001b[0m\n",
      "\u001b[1mMissed video calls: 0\u001b[0m\n"
     ]
    }
   ],
   "source": [
    "# Function 1: Count of shared media\n",
    "def media_count(df):\n",
    "    # Adjust depending on how your WhatsApp shows media\n",
    "    return df['Chat'].str.contains(r\"<Media omitted>|<image omitted>|<video omitted>\", regex=True).sum()\n",
    "\n",
    "# Function 2: Count of deleted messages\n",
    "def deleted_message_count(df):\n",
    "    return df['Chat'].str.contains(\"This message was deleted\").sum()\n",
    "\n",
    "# Function 3: Count of missed voice calls\n",
    "def missed_voice_call_count(df):\n",
    "    return df['Chat'].str.contains(\"Missed voice call\").sum()\n",
    "\n",
    "# Function 4: Count of missed video calls\n",
    "def missed_video_call_count(df):\n",
    "    return df['Chat'].str.contains(\"Missed video call\").sum()\n",
    "\n",
    "# Usage\n",
    "print(\"\\033[1m\" + f\"Most active hour: {most_active_hour(df)}\" + \"\\033[0m\")\n",
    "print(\"\\033[1m\" + f\"Media count: {media_count(df)}\" + \"\\033[0m\")\n",
    "print(\"\\033[1m\" + f\"Deleted messages:  {deleted_message_count(df)}\" + \"\\033[0m\")\n",
    "print(\"\\033[1m\" + f\"Missed voice calls: {missed_voice_call_count(df)}\" + \"\\033[0m\")\n",
    "print(\"\\033[1m\" + f\"Missed video calls: {missed_video_call_count(df)}\" + \"\\033[0m\")"
   ]
  },
  {
   "cell_type": "markdown",
   "id": "55c4fc39-846d-4cd1-aee6-56a572be8788",
   "metadata": {},
   "source": [
    "# Bar chart using Seaborn"
   ]
  },
  {
   "cell_type": "code",
   "execution_count": 157,
   "id": "aa49c364-2269-4e67-a3b1-6d3fe67c9e50",
   "metadata": {},
   "outputs": [
    {
     "data": {
      "text/plain": [
       "136"
      ]
     },
     "execution_count": 157,
     "metadata": {},
     "output_type": "execute_result"
    },
    {
     "data": {
      "text/plain": [
       "<Figure size 1000x600 with 0 Axes>"
      ]
     },
     "metadata": {},
     "output_type": "display_data"
    }
   ],
   "source": [
    "import seaborn as sns\n",
    "import matplotlib.pyplot as plt\n",
    "# Set plot size\n",
    "plt.figure(figsize=(10,6))\n",
    "\n",
    "# Bar plot\n",
    "df[\"Chat\"].count()"
   ]
  },
  {
   "cell_type": "code",
   "execution_count": 159,
   "id": "ef886eeb-3374-4508-95f1-d5739403dcb1",
   "metadata": {},
   "outputs": [],
   "source": [
    "chat_count = df.groupby(['Date', 'Name']).size().reset_index(name='MessageCount')"
   ]
  },
  {
   "cell_type": "code",
   "execution_count": 163,
   "id": "f3c70e3c-a540-40cf-93e4-914db3919727",
   "metadata": {},
   "outputs": [
    {
     "data": {
      "image/png": "[encoded data removed]",
      "text/plain": [
       "<Figure size 640x480 with 1 Axes>"
      ]
     },
     "metadata": {},
     "output_type": "display_data"
    }
   ],
   "source": [
    "sns.barplot(data=chat_count, x='Date', y='MessageCount', hue='Name')\n",
    "# Add titles and labels\n",
    "plt.title(\"WhatsApp Chat Count per Date for Arun & Geetha\")\n",
    "plt.xlabel(\"Date\")\n",
    "plt.ylabel(\"Number of Messages\")\n",
    "plt.xticks(rotation=45)\n",
    "plt.legend(title='Name')\n",
    "plt.tight_layout()\n",
    "\n",
    "# Show plot\n",
    "plt.show()"
   ]
  }
 ],
 "metadata": {
  "kernelspec": {
   "display_name": "Python 3 (ipykernel)",
   "language": "python",
   "name": "python3"
  },
  "language_info": {
   "codemirror_mode": {
    "name": "ipython",
    "version": 3
   },
   "file_extension": ".py",
   "mimetype": "text/x-python",
   "name": "python",
   "nbconvert_exporter": "python",
   "pygments_lexer": "ipython3",
   "version": "3.12.7"
  }
 },
 "nbformat": 4,
 "nbformat_minor": 5
}
